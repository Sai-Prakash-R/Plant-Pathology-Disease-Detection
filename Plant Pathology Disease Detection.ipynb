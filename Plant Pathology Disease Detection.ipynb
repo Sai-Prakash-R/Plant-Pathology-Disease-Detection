{
  "cells": [
    {
      "cell_type": "markdown",
      "id": "a959d40a-c573-4f2f-8c2f-f8ab222f42d7",
      "metadata": {
        "execution": {
          "iopub.execute_input": "2022-11-11T16:57:58.765422Z",
          "iopub.status.busy": "2022-11-11T16:57:58.765219Z",
          "iopub.status.idle": "2022-11-11T16:57:58.784724Z",
          "shell.execute_reply": "2022-11-11T16:57:58.784198Z",
          "shell.execute_reply.started": "2022-11-11T16:57:58.765410Z"
        },
        "id": "a959d40a-c573-4f2f-8c2f-f8ab222f42d7"
      },
      "source": [
        "# <font color = 'pickle'> Install Libraries/ Set Google Colab"
      ]
    },
    {
      "cell_type": "code",
      "execution_count": 1,
      "id": "988cded9-e947-4978-916f-b73eff82d2fe",
      "metadata": {
        "colab": {
          "base_uri": "https://localhost:8080/"
        },
        "execution": {
          "iopub.execute_input": "2022-11-13T14:42:24.457942Z",
          "iopub.status.busy": "2022-11-13T14:42:24.457662Z",
          "iopub.status.idle": "2022-11-13T14:42:24.463184Z",
          "shell.execute_reply": "2022-11-13T14:42:24.462850Z",
          "shell.execute_reply.started": "2022-11-13T14:42:24.457928Z"
        },
        "id": "988cded9-e947-4978-916f-b73eff82d2fe",
        "outputId": "5bd6ab05-69a8-4871-fc1e-12282d162da7",
        "tags": []
      },
      "outputs": [
        {
          "output_type": "stream",
          "name": "stdout",
          "text": [
            "Running on CoLab\n",
            "Mounted at /content/drive\n",
            "\u001b[2K     \u001b[90m━━━━━━━━━━━━━━━━━━━━━━━━━━━━━━━━━━━━━━━━\u001b[0m \u001b[32m2.2/2.2 MB\u001b[0m \u001b[31m15.7 MB/s\u001b[0m eta \u001b[36m0:00:00\u001b[0m\n",
            "\u001b[?25h"
          ]
        }
      ],
      "source": [
        "from pathlib import Path\n",
        "if 'google.colab' in str(get_ipython()):\n",
        "  print('Running on CoLab')\n",
        "  from google.colab import drive\n",
        "  drive.mount('/content/drive')\n",
        "  !pip install --upgrade fastai timm kaggle -qq\n",
        "  base_folder = Path('/content/drive/MyDrive/data')\n",
        "  data_folder = Path('/content')\n",
        "else:\n",
        "  base_folder = Path('/home/harpreet/Insync/google_drive_shaannoor/data')\n",
        "  data_folder = Path('/home/harpreet/data')\n",
        "  print('Not running on CoLab')"
      ]
    },
    {
      "cell_type": "markdown",
      "id": "1af95eb5-987d-4e37-b0e6-4f89a8bacce2",
      "metadata": {
        "id": "1af95eb5-987d-4e37-b0e6-4f89a8bacce2"
      },
      "source": [
        "# <font color = 'pickle'> Specify Project Folder"
      ]
    },
    {
      "cell_type": "code",
      "execution_count": 2,
      "id": "97a007f7-eef3-45f9-afe7-6a1dd5337918",
      "metadata": {
        "execution": {
          "iopub.execute_input": "2022-11-13T14:42:26.311102Z",
          "iopub.status.busy": "2022-11-13T14:42:26.310860Z",
          "iopub.status.idle": "2022-11-13T14:42:26.317150Z",
          "shell.execute_reply": "2022-11-13T14:42:26.316755Z",
          "shell.execute_reply.started": "2022-11-13T14:42:26.311087Z"
        },
        "id": "97a007f7-eef3-45f9-afe7-6a1dd5337918",
        "tags": []
      },
      "outputs": [],
      "source": [
        "kaggle_api = base_folder/'.kaggle'\n",
        "data_folder = data_folder/'inclass_kaggle_data'\n",
        "model_folder = base_folder/'models/dl_fall_2023/inclass_kaglle'\n",
        "archive_folder  = data_folder/'archive'"
      ]
    },
    {
      "cell_type": "code",
      "execution_count": 3,
      "id": "2fZgcP6YwHoE",
      "metadata": {
        "execution": {
          "iopub.execute_input": "2022-11-13T14:42:26.498804Z",
          "iopub.status.busy": "2022-11-13T14:42:26.498116Z",
          "iopub.status.idle": "2022-11-13T14:42:26.504034Z",
          "shell.execute_reply": "2022-11-13T14:42:26.503692Z",
          "shell.execute_reply.started": "2022-11-13T14:42:26.498789Z"
        },
        "id": "2fZgcP6YwHoE",
        "tags": []
      },
      "outputs": [],
      "source": [
        "data_folder.mkdir(exist_ok=True)\n",
        "kaggle_api.mkdir(exist_ok=True)\n",
        "model_folder.mkdir(exist_ok=True, parents=True)\n",
        "archive_folder.mkdir(exist_ok=True)\n"
      ]
    },
    {
      "cell_type": "code",
      "execution_count": 4,
      "id": "AmWeviMSfT1k",
      "metadata": {
        "execution": {
          "iopub.execute_input": "2022-11-13T14:42:26.899136Z",
          "iopub.status.busy": "2022-11-13T14:42:26.898661Z",
          "iopub.status.idle": "2022-11-13T14:42:26.904990Z",
          "shell.execute_reply": "2022-11-13T14:42:26.904643Z",
          "shell.execute_reply.started": "2022-11-13T14:42:26.899107Z"
        },
        "id": "AmWeviMSfT1k",
        "tags": []
      },
      "outputs": [],
      "source": [
        "import os\n",
        "if 'google.colab' in str(get_ipython()):\n",
        "    os.environ['KAGGLE_CONFIG_DIR'] = \"/content/drive/MyDrive/data/.kaggle/\""
      ]
    },
    {
      "cell_type": "code",
      "execution_count": 5,
      "id": "P4GBZapRgjCm",
      "metadata": {
        "execution": {
          "iopub.execute_input": "2022-11-13T14:42:27.149379Z",
          "iopub.status.busy": "2022-11-13T14:42:27.148920Z",
          "iopub.status.idle": "2022-11-13T14:42:27.155151Z",
          "shell.execute_reply": "2022-11-13T14:42:27.154677Z",
          "shell.execute_reply.started": "2022-11-13T14:42:27.149356Z"
        },
        "id": "P4GBZapRgjCm",
        "tags": []
      },
      "outputs": [],
      "source": [
        "if 'google.colab' in str(get_ipython()):\n",
        "    !chmod 600 /content/drive/MyDrive/data/.kaggle/kaggle.json"
      ]
    },
    {
      "cell_type": "code",
      "execution_count": 6,
      "id": "t2bDcqCGvIbV",
      "metadata": {
        "execution": {
          "iopub.execute_input": "2022-11-13T14:42:27.523625Z",
          "iopub.status.busy": "2022-11-13T14:42:27.523296Z",
          "iopub.status.idle": "2022-11-13T14:42:27.529450Z",
          "shell.execute_reply": "2022-11-13T14:42:27.529100Z",
          "shell.execute_reply.started": "2022-11-13T14:42:27.523609Z"
        },
        "id": "t2bDcqCGvIbV",
        "tags": [],
        "colab": {
          "base_uri": "https://localhost:8080/"
        },
        "outputId": "8b5a75a2-0bd1-4c12-f583-dc72e98af102"
      },
      "outputs": [
        {
          "output_type": "stream",
          "name": "stdout",
          "text": [
            "-rw------- 1 root root 67 Nov 27 22:37 /content/drive/MyDrive/data/.kaggle/kaggle.json\n"
          ]
        }
      ],
      "source": [
        "if 'google.colab' in str(get_ipython()):\n",
        "    ! ls -la  /content/drive/MyDrive/data/.kaggle/kaggle.json"
      ]
    },
    {
      "cell_type": "markdown",
      "id": "c601e11c-9219-4105-a467-8c84a80c245f",
      "metadata": {
        "id": "c601e11c-9219-4105-a467-8c84a80c245f"
      },
      "source": [
        "# <font color = 'pickle'> Import Libraries"
      ]
    },
    {
      "cell_type": "code",
      "execution_count": 7,
      "id": "188f0e66-6cf0-477c-b99c-cc381da57e0c",
      "metadata": {
        "colab": {
          "base_uri": "https://localhost:8080/",
          "height": 35
        },
        "execution": {
          "iopub.execute_input": "2022-11-13T14:42:29.287949Z",
          "iopub.status.busy": "2022-11-13T14:42:29.287314Z",
          "iopub.status.idle": "2022-11-13T14:42:29.296982Z",
          "shell.execute_reply": "2022-11-13T14:42:29.296491Z",
          "shell.execute_reply.started": "2022-11-13T14:42:29.287934Z"
        },
        "id": "188f0e66-6cf0-477c-b99c-cc381da57e0c",
        "outputId": "0e774802-c79b-4abe-9ac0-eeaf9acb037f",
        "tags": []
      },
      "outputs": [
        {
          "output_type": "execute_result",
          "data": {
            "text/plain": [
              "'2.7.13'"
            ],
            "application/vnd.google.colaboratory.intrinsic+json": {
              "type": "string"
            }
          },
          "metadata": {},
          "execution_count": 7
        }
      ],
      "source": [
        "import fastai; fastai.__version__"
      ]
    },
    {
      "cell_type": "code",
      "execution_count": 8,
      "id": "2580966c-f719-4548-bf2b-80fe1b7cacd8",
      "metadata": {
        "execution": {
          "iopub.execute_input": "2022-11-13T14:42:32.348615Z",
          "iopub.status.busy": "2022-11-13T14:42:32.348416Z",
          "iopub.status.idle": "2022-11-13T14:42:35.007661Z",
          "shell.execute_reply": "2022-11-13T14:42:35.007029Z",
          "shell.execute_reply.started": "2022-11-13T14:42:32.348602Z"
        },
        "id": "2580966c-f719-4548-bf2b-80fe1b7cacd8",
        "tags": []
      },
      "outputs": [],
      "source": [
        "from fastai.vision.all import *\n",
        "from kaggle import api\n",
        "from zipfile import ZipFile\n",
        "import timm"
      ]
    },
    {
      "cell_type": "markdown",
      "id": "8c1d658d-22c4-4d3d-9932-af3152235971",
      "metadata": {
        "id": "8c1d658d-22c4-4d3d-9932-af3152235971"
      },
      "source": [
        "# <font color = 'pickle'> Get Data from kaggle"
      ]
    },
    {
      "cell_type": "code",
      "execution_count": 9,
      "id": "ed7b8577-b99c-43a3-b051-833c8e317131",
      "metadata": {
        "colab": {
          "base_uri": "https://localhost:8080/"
        },
        "execution": {
          "iopub.execute_input": "2022-11-13T14:42:45.666264Z",
          "iopub.status.busy": "2022-11-13T14:42:45.665944Z",
          "iopub.status.idle": "2022-11-13T14:42:46.831695Z",
          "shell.execute_reply": "2022-11-13T14:42:46.831096Z",
          "shell.execute_reply.started": "2022-11-13T14:42:45.666249Z"
        },
        "id": "ed7b8577-b99c-43a3-b051-833c8e317131",
        "outputId": "c781a615-7e6d-40a7-b3b8-d8cebebf20b7",
        "tags": []
      },
      "outputs": [
        {
          "output_type": "stream",
          "name": "stdout",
          "text": [
            "Downloading inclassplantpathologysmallf23.zip to /content/inclass_kaggle_data/archive\n",
            "100% 552M/552M [00:14<00:00, 43.4MB/s]\n",
            "100% 552M/552M [00:14<00:00, 38.6MB/s]\n"
          ]
        }
      ],
      "source": [
        "! kaggle competitions download inclassplantpathologysmallf23 -p {archive_folder}\n"
      ]
    },
    {
      "cell_type": "code",
      "execution_count": 10,
      "id": "0b6e00ba-4bb6-4d75-a8ce-3fa5e456867c",
      "metadata": {
        "execution": {
          "iopub.execute_input": "2022-11-13T14:42:51.524989Z",
          "iopub.status.busy": "2022-11-13T14:42:51.524778Z",
          "iopub.status.idle": "2022-11-13T14:42:51.638159Z",
          "shell.execute_reply": "2022-11-13T14:42:51.637574Z",
          "shell.execute_reply.started": "2022-11-13T14:42:51.524975Z"
        },
        "id": "0b6e00ba-4bb6-4d75-a8ce-3fa5e456867c",
        "tags": []
      },
      "outputs": [],
      "source": [
        "file = archive_folder/'inclassplantpathologysmallf23.zip'\n",
        "with ZipFile(file , 'r') as f:\n",
        "    filenames = f.namelist()"
      ]
    },
    {
      "cell_type": "code",
      "execution_count": 11,
      "id": "86008a65-9a0b-46b3-854a-473333448070",
      "metadata": {
        "colab": {
          "base_uri": "https://localhost:8080/"
        },
        "execution": {
          "iopub.execute_input": "2022-11-13T14:42:52.200797Z",
          "iopub.status.busy": "2022-11-13T14:42:52.200587Z",
          "iopub.status.idle": "2022-11-13T14:42:52.225237Z",
          "shell.execute_reply": "2022-11-13T14:42:52.224633Z",
          "shell.execute_reply.started": "2022-11-13T14:42:52.200784Z"
        },
        "id": "86008a65-9a0b-46b3-854a-473333448070",
        "outputId": "3ccc54c4-8c4c-49ce-968a-a169cadbb179",
        "tags": []
      },
      "outputs": [
        {
          "output_type": "execute_result",
          "data": {
            "text/plain": [
              "['sample_submission.csv',\n",
              " 'test/test/test_image_1.jpg',\n",
              " 'test/test/test_image_10.jpg',\n",
              " 'test/test/test_image_100.jpg',\n",
              " 'test/test/test_image_1000.jpg',\n",
              " 'test/test/test_image_1001.jpg',\n",
              " 'test/test/test_image_1002.jpg',\n",
              " 'test/test/test_image_1003.jpg',\n",
              " 'test/test/test_image_1004.jpg',\n",
              " 'test/test/test_image_1005.jpg']"
            ]
          },
          "metadata": {},
          "execution_count": 11
        }
      ],
      "source": [
        "filenames[0:10]"
      ]
    },
    {
      "cell_type": "code",
      "execution_count": 12,
      "id": "b0eeae08-a287-4bc5-8630-480ba5ee9187",
      "metadata": {
        "execution": {
          "iopub.execute_input": "2022-11-13T14:42:53.324393Z",
          "iopub.status.busy": "2022-11-13T14:42:53.324202Z",
          "iopub.status.idle": "2022-11-13T14:42:53.347511Z",
          "shell.execute_reply": "2022-11-13T14:42:53.347034Z",
          "shell.execute_reply.started": "2022-11-13T14:42:53.324379Z"
        },
        "id": "b0eeae08-a287-4bc5-8630-480ba5ee9187",
        "tags": []
      },
      "outputs": [],
      "source": [
        "with ZipFile(file ,'r') as f:\n",
        " f.extractall(path = data_folder)"
      ]
    },
    {
      "cell_type": "markdown",
      "id": "1e3b81da-aee5-4c6f-a81d-79ad160d0a91",
      "metadata": {
        "id": "1e3b81da-aee5-4c6f-a81d-79ad160d0a91"
      },
      "source": [
        "# <font color = 'pickle'> Understand Data"
      ]
    },
    {
      "cell_type": "code",
      "execution_count": 13,
      "id": "e765c52f-1064-4a66-a18b-6df8452dc65b",
      "metadata": {
        "execution": {
          "iopub.execute_input": "2022-11-13T14:42:56.099729Z",
          "iopub.status.busy": "2022-11-13T14:42:56.099525Z",
          "iopub.status.idle": "2022-11-13T14:42:56.122699Z",
          "shell.execute_reply": "2022-11-13T14:42:56.122234Z",
          "shell.execute_reply.started": "2022-11-13T14:42:56.099717Z"
        },
        "id": "e765c52f-1064-4a66-a18b-6df8452dc65b",
        "tags": []
      },
      "outputs": [],
      "source": [
        "train_path = data_folder/'train/train'"
      ]
    },
    {
      "cell_type": "code",
      "execution_count": 14,
      "id": "95cec96d-7d59-4618-8ea1-834b88bb6a1b",
      "metadata": {
        "execution": {
          "iopub.execute_input": "2022-11-13T14:42:58.599625Z",
          "iopub.status.busy": "2022-11-13T14:42:58.599454Z",
          "iopub.status.idle": "2022-11-13T14:42:58.677158Z",
          "shell.execute_reply": "2022-11-13T14:42:58.676528Z",
          "shell.execute_reply.started": "2022-11-13T14:42:58.599613Z"
        },
        "id": "95cec96d-7d59-4618-8ea1-834b88bb6a1b",
        "tags": []
      },
      "outputs": [],
      "source": [
        "files = get_image_files(train_path)"
      ]
    },
    {
      "cell_type": "markdown",
      "id": "9994ab57-81b2-4692-aaef-4973a5429378",
      "metadata": {
        "id": "9994ab57-81b2-4692-aaef-4973a5429378"
      },
      "source": [
        "##  <font color = 'pickle'>Look at a sample Image"
      ]
    },
    {
      "cell_type": "code",
      "execution_count": 15,
      "id": "14943372-464f-40d2-a4f8-8df7004b4047",
      "metadata": {
        "colab": {
          "base_uri": "https://localhost:8080/",
          "height": 205
        },
        "execution": {
          "iopub.execute_input": "2022-11-13T14:43:04.816091Z",
          "iopub.status.busy": "2022-11-13T14:43:04.815869Z",
          "iopub.status.idle": "2022-11-13T14:43:04.963000Z",
          "shell.execute_reply": "2022-11-13T14:43:04.962566Z",
          "shell.execute_reply.started": "2022-11-13T14:43:04.816079Z"
        },
        "id": "14943372-464f-40d2-a4f8-8df7004b4047",
        "outputId": "d99c49de-f061-42b8-e3ae-05ee94004415",
        "tags": []
      },
      "outputs": [
        {
          "output_type": "stream",
          "name": "stdout",
          "text": [
            "(600, 400)\n"
          ]
        },
        {
          "output_type": "execute_result",
          "data": {
            "text/plain": [
              "<PIL.Image.Image image mode=RGB size=256x171>"
            ],
            "image/png": "[encoded data removed]"
          },
          "metadata": {},
          "execution_count": 15
        }
      ],
      "source": [
        "sample_image = PILImage.create(files[0])\n",
        "print(sample_image.size)\n",
        "sample_image.to_thumb(256)"
      ]
    },
    {
      "cell_type": "markdown",
      "id": "7f722d79-6d30-414d-be8f-69d18f9e50c4",
      "metadata": {
        "id": "7f722d79-6d30-414d-be8f-69d18f9e50c4"
      },
      "source": [
        "##  <font color = 'pickle'> Check size of all the images"
      ]
    },
    {
      "cell_type": "code",
      "execution_count": 16,
      "id": "bb6d7b29-68ee-4fb5-86ce-69e1b3a15b59",
      "metadata": {
        "execution": {
          "iopub.execute_input": "2022-11-13T14:43:16.326522Z",
          "iopub.status.busy": "2022-11-13T14:43:16.326318Z",
          "iopub.status.idle": "2022-11-13T14:43:16.348177Z",
          "shell.execute_reply": "2022-11-13T14:43:16.347732Z",
          "shell.execute_reply.started": "2022-11-13T14:43:16.326509Z"
        },
        "id": "bb6d7b29-68ee-4fb5-86ce-69e1b3a15b59",
        "tags": []
      },
      "outputs": [],
      "source": [
        "from fastcore.parallel import *"
      ]
    },
    {
      "cell_type": "code",
      "execution_count": 17,
      "id": "de1a40e4-c93f-4705-9c81-dc960c0cda7d",
      "metadata": {
        "execution": {
          "iopub.execute_input": "2022-11-13T14:43:16.925003Z",
          "iopub.status.busy": "2022-11-13T14:43:16.924782Z",
          "iopub.status.idle": "2022-11-13T14:43:16.947715Z",
          "shell.execute_reply": "2022-11-13T14:43:16.947099Z",
          "shell.execute_reply.started": "2022-11-13T14:43:16.924990Z"
        },
        "id": "de1a40e4-c93f-4705-9c81-dc960c0cda7d",
        "tags": []
      },
      "outputs": [],
      "source": [
        "def get_sizes(image):\n",
        "    return PILImage.create(image).size"
      ]
    },
    {
      "cell_type": "code",
      "execution_count": 18,
      "id": "d60bafeb-88ea-4416-8b6a-5593b1d5aa96",
      "metadata": {
        "colab": {
          "base_uri": "https://localhost:8080/",
          "height": 17
        },
        "execution": {
          "iopub.execute_input": "2022-11-13T14:43:17.576550Z",
          "iopub.status.busy": "2022-11-13T14:43:17.576337Z",
          "iopub.status.idle": "2022-11-13T14:47:24.467807Z",
          "shell.execute_reply": "2022-11-13T14:47:24.467133Z",
          "shell.execute_reply.started": "2022-11-13T14:43:17.576537Z"
        },
        "id": "d60bafeb-88ea-4416-8b6a-5593b1d5aa96",
        "outputId": "2153806f-fed9-421c-a029-08996cc852fa",
        "tags": []
      },
      "outputs": [
        {
          "output_type": "display_data",
          "data": {
            "text/plain": [
              "<IPython.core.display.HTML object>"
            ],
            "text/html": [
              "\n",
              "<style>\n",
              "    /* Turns off some styling */\n",
              "    progress {\n",
              "        /* gets rid of default border in Firefox and Opera. */\n",
              "        border: none;\n",
              "        /* Needs to be in here for Safari polyfill so background images work as expected. */\n",
              "        background-size: auto;\n",
              "    }\n",
              "    progress:not([value]), progress:not([value])::-webkit-progress-bar {\n",
              "        background: repeating-linear-gradient(45deg, #7e7e7e, #7e7e7e 10px, #5c5c5c 10px, #5c5c5c 20px);\n",
              "    }\n",
              "    .progress-bar-interrupted, .progress-bar-interrupted::-webkit-progress-bar {\n",
              "        background: #F44336;\n",
              "    }\n",
              "</style>\n"
            ]
          },
          "metadata": {}
        },
        {
          "output_type": "display_data",
          "data": {
            "text/plain": [
              "<IPython.core.display.HTML object>"
            ],
            "text/html": []
          },
          "metadata": {}
        }
      ],
      "source": [
        "sizes = parallel(get_sizes, files, progress=True)"
      ]
    },
    {
      "cell_type": "code",
      "execution_count": 19,
      "id": "5545a41c-6ddc-4c3b-a978-71c967703a0d",
      "metadata": {
        "colab": {
          "base_uri": "https://localhost:8080/"
        },
        "execution": {
          "iopub.execute_input": "2022-11-13T14:47:42.238936Z",
          "iopub.status.busy": "2022-11-13T14:47:42.238723Z",
          "iopub.status.idle": "2022-11-13T14:47:42.279016Z",
          "shell.execute_reply": "2022-11-13T14:47:42.278669Z",
          "shell.execute_reply.started": "2022-11-13T14:47:42.238923Z"
        },
        "id": "5545a41c-6ddc-4c3b-a978-71c967703a0d",
        "outputId": "73ad693a-b59f-451d-9301-142fe0b862f4",
        "tags": []
      },
      "outputs": [
        {
          "output_type": "execute_result",
          "data": {
            "text/plain": [
              "(600, 400)    12409\n",
              "(600, 450)      627\n",
              "(600, 600)        3\n",
              "(450, 600)        2\n",
              "(600, 337)        1\n",
              "dtype: int64"
            ]
          },
          "metadata": {},
          "execution_count": 19
        }
      ],
      "source": [
        "pd.Series(sizes).value_counts()"
      ]
    },
    {
      "cell_type": "markdown",
      "id": "56bd6468-0862-47fd-9dda-57ada9ee0daa",
      "metadata": {
        "id": "56bd6468-0862-47fd-9dda-57ada9ee0daa"
      },
      "source": [
        "# <font color = 'pickle'> Data Loader"
      ]
    },
    {
      "cell_type": "code",
      "execution_count": 20,
      "id": "ed7c33ff-5b10-4724-808f-a7dde355a977",
      "metadata": {
        "execution": {
          "iopub.execute_input": "2022-11-13T14:48:15.534147Z",
          "iopub.status.busy": "2022-11-13T14:48:15.533911Z",
          "iopub.status.idle": "2022-11-13T14:48:15.563615Z",
          "shell.execute_reply": "2022-11-13T14:48:15.563097Z",
          "shell.execute_reply.started": "2022-11-13T14:48:15.534133Z"
        },
        "id": "ed7c33ff-5b10-4724-808f-a7dde355a977",
        "tags": []
      },
      "outputs": [],
      "source": [
        "df = pd.read_csv(data_folder/'train.csv')"
      ]
    },
    {
      "cell_type": "code",
      "execution_count": 21,
      "id": "ab21f204-c455-43b5-a014-0feeec958e1c",
      "metadata": {
        "colab": {
          "base_uri": "https://localhost:8080/",
          "height": 206
        },
        "execution": {
          "iopub.execute_input": "2022-11-13T14:48:16.295140Z",
          "iopub.status.busy": "2022-11-13T14:48:16.294894Z",
          "iopub.status.idle": "2022-11-13T14:48:16.320332Z",
          "shell.execute_reply": "2022-11-13T14:48:16.319858Z",
          "shell.execute_reply.started": "2022-11-13T14:48:16.295126Z"
        },
        "id": "ab21f204-c455-43b5-a014-0feeec958e1c",
        "outputId": "91ad485c-2e2a-4a40-bd04-2119383ea64d",
        "tags": []
      },
      "outputs": [
        {
          "output_type": "execute_result",
          "data": {
            "text/plain": [
              "               image                   labels\n",
              "0  train_image_1.jpg           powdery_mildew\n",
              "1  train_image_2.jpg                     scab\n",
              "2  train_image_3.jpg  scab frog_eye_leaf_spot\n",
              "3  train_image_4.jpg           powdery_mildew\n",
              "4  train_image_5.jpg                  complex"
            ],
            "text/html": [
              "\n",
              "  <div id=\"df-05c70f70-9af8-4c10-bd99-5d472fc9965b\" class=\"colab-df-container\">\n",
              "    <div>\n",
              "<style scoped>\n",
              "    .dataframe tbody tr th:only-of-type {\n",
              "        vertical-align: middle;\n",
              "    }\n",
              "\n",
              "    .dataframe tbody tr th {\n",
              "        vertical-align: top;\n",
              "    }\n",
              "\n",
              "    .dataframe thead th {\n",
              "        text-align: right;\n",
              "    }\n",
              "</style>\n",
              "<table border=\"1\" class=\"dataframe\">\n",
              "  <thead>\n",
              "    <tr style=\"text-align: right;\">\n",
              "      <th></th>\n",
              "      <th>image</th>\n",
              "      <th>labels</th>\n",
              "    </tr>\n",
              "  </thead>\n",
              "  <tbody>\n",
              "    <tr>\n",
              "      <th>0</th>\n",
              "      <td>train_image_1.jpg</td>\n",
              "      <td>powdery_mildew</td>\n",
              "    </tr>\n",
              "    <tr>\n",
              "      <th>1</th>\n",
              "      <td>train_image_2.jpg</td>\n",
              "      <td>scab</td>\n",
              "    </tr>\n",
              "    <tr>\n",
              "      <th>2</th>\n",
              "      <td>train_image_3.jpg</td>\n",
              "      <td>scab frog_eye_leaf_spot</td>\n",
              "    </tr>\n",
              "    <tr>\n",
              "      <th>3</th>\n",
              "      <td>train_image_4.jpg</td>\n",
              "      <td>powdery_mildew</td>\n",
              "    </tr>\n",
              "    <tr>\n",
              "      <th>4</th>\n",
              "      <td>train_image_5.jpg</td>\n",
              "      <td>complex</td>\n",
              "    </tr>\n",
              "  </tbody>\n",
              "</table>\n",
              "</div>\n",
              "    <div class=\"colab-df-buttons\">\n",
              "\n",
              "  <div class=\"colab-df-container\">\n",
              "    <button class=\"colab-df-convert\" onclick=\"convertToInteractive('df-05c70f70-9af8-4c10-bd99-5d472fc9965b')\"\n",
              "            title=\"Convert this dataframe to an interactive table.\"\n",
              "            style=\"display:none;\">\n",
              "\n",
              "  <svg xmlns=\"http://www.w3.org/2000/svg\" height=\"24px\" viewBox=\"0 -960 960 960\">\n",
              "    <path d=\"M120-120v-720h720v720H120Zm60-500h600v-160H180v160Zm220 220h160v-160H400v160Zm0 220h160v-160H400v160ZM180-400h160v-160H180v160Zm440 0h160v-160H620v160ZM180-180h160v-160H180v160Zm440 0h160v-160H620v160Z\"/>\n",
              "  </svg>\n",
              "    </button>\n",
              "\n",
              "  <style>\n",
              "    .colab-df-container {\n",
              "      display:flex;\n",
              "      gap: 12px;\n",
              "    }\n",
              "\n",
              "    .colab-df-convert {\n",
              "      background-color: #E8F0FE;\n",
              "      border: none;\n",
              "      border-radius: 50%;\n",
              "      cursor: pointer;\n",
              "      display: none;\n",
              "      fill: #1967D2;\n",
              "      height: 32px;\n",
              "      padding: 0 0 0 0;\n",
              "      width: 32px;\n",
              "    }\n",
              "\n",
              "    .colab-df-convert:hover {\n",
              "      background-color: #E2EBFA;\n",
              "      box-shadow: 0px 1px 2px rgba(60, 64, 67, 0.3), 0px 1px 3px 1px rgba(60, 64, 67, 0.15);\n",
              "      fill: #174EA6;\n",
              "    }\n",
              "\n",
              "    .colab-df-buttons div {\n",
              "      margin-bottom: 4px;\n",
              "    }\n",
              "\n",
              "    [theme=dark] .colab-df-convert {\n",
              "      background-color: #3B4455;\n",
              "      fill: #D2E3FC;\n",
              "    }\n",
              "\n",
              "    [theme=dark] .colab-df-convert:hover {\n",
              "      background-color: #434B5C;\n",
              "      box-shadow: 0px 1px 3px 1px rgba(0, 0, 0, 0.15);\n",
              "      filter: drop-shadow(0px 1px 2px rgba(0, 0, 0, 0.3));\n",
              "      fill: #FFFFFF;\n",
              "    }\n",
              "  </style>\n",
              "\n",
              "    <script>\n",
              "      const buttonEl =\n",
              "        document.querySelector('#df-05c70f70-9af8-4c10-bd99-5d472fc9965b button.colab-df-convert');\n",
              "      buttonEl.style.display =\n",
              "        google.colab.kernel.accessAllowed ? 'block' : 'none';\n",
              "\n",
              "      async function convertToInteractive(key) {\n",
              "        const element = document.querySelector('#df-05c70f70-9af8-4c10-bd99-5d472fc9965b');\n",
              "        const dataTable =\n",
              "          await google.colab.kernel.invokeFunction('convertToInteractive',\n",
              "                                                    [key], {});\n",
              "        if (!dataTable) return;\n",
              "\n",
              "        const docLinkHtml = 'Like what you see? Visit the ' +\n",
              "          '<a target=\"_blank\" href=https://colab.research.google.com/notebooks/data_table.ipynb>data table notebook</a>'\n",
              "          + ' to learn more about interactive tables.';\n",
              "        element.innerHTML = '';\n",
              "        dataTable['output_type'] = 'display_data';\n",
              "        await google.colab.output.renderOutput(dataTable, element);\n",
              "        const docLink = document.createElement('div');\n",
              "        docLink.innerHTML = docLinkHtml;\n",
              "        element.appendChild(docLink);\n",
              "      }\n",
              "    </script>\n",
              "  </div>\n",
              "\n",
              "\n",
              "<div id=\"df-14407eed-2acf-4d4c-a098-3fbb7fa1175b\">\n",
              "  <button class=\"colab-df-quickchart\" onclick=\"quickchart('df-14407eed-2acf-4d4c-a098-3fbb7fa1175b')\"\n",
              "            title=\"Suggest charts\"\n",
              "            style=\"display:none;\">\n",
              "\n",
              "<svg xmlns=\"http://www.w3.org/2000/svg\" height=\"24px\"viewBox=\"0 0 24 24\"\n",
              "     width=\"24px\">\n",
              "    <g>\n",
              "        <path d=\"M19 3H5c-1.1 0-2 .9-2 2v14c0 1.1.9 2 2 2h14c1.1 0 2-.9 2-2V5c0-1.1-.9-2-2-2zM9 17H7v-7h2v7zm4 0h-2V7h2v10zm4 0h-2v-4h2v4z\"/>\n",
              "    </g>\n",
              "</svg>\n",
              "  </button>\n",
              "\n",
              "<style>\n",
              "  .colab-df-quickchart {\n",
              "      --bg-color: #E8F0FE;\n",
              "      --fill-color: #1967D2;\n",
              "      --hover-bg-color: #E2EBFA;\n",
              "      --hover-fill-color: #174EA6;\n",
              "      --disabled-fill-color: #AAA;\n",
              "      --disabled-bg-color: #DDD;\n",
              "  }\n",
              "\n",
              "  [theme=dark] .colab-df-quickchart {\n",
              "      --bg-color: #3B4455;\n",
              "      --fill-color: #D2E3FC;\n",
              "      --hover-bg-color: #434B5C;\n",
              "      --hover-fill-color: #FFFFFF;\n",
              "      --disabled-bg-color: #3B4455;\n",
              "      --disabled-fill-color: #666;\n",
              "  }\n",
              "\n",
              "  .colab-df-quickchart {\n",
              "    background-color: var(--bg-color);\n",
              "    border: none;\n",
              "    border-radius: 50%;\n",
              "    cursor: pointer;\n",
              "    display: none;\n",
              "    fill: var(--fill-color);\n",
              "    height: 32px;\n",
              "    padding: 0;\n",
              "    width: 32px;\n",
              "  }\n",
              "\n",
              "  .colab-df-quickchart:hover {\n",
              "    background-color: var(--hover-bg-color);\n",
              "    box-shadow: 0 1px 2px rgba(60, 64, 67, 0.3), 0 1px 3px 1px rgba(60, 64, 67, 0.15);\n",
              "    fill: var(--button-hover-fill-color);\n",
              "  }\n",
              "\n",
              "  .colab-df-quickchart-complete:disabled,\n",
              "  .colab-df-quickchart-complete:disabled:hover {\n",
              "    background-color: var(--disabled-bg-color);\n",
              "    fill: var(--disabled-fill-color);\n",
              "    box-shadow: none;\n",
              "  }\n",
              "\n",
              "  .colab-df-spinner {\n",
              "    border: 2px solid var(--fill-color);\n",
              "    border-color: transparent;\n",
              "    border-bottom-color: var(--fill-color);\n",
              "    animation:\n",
              "      spin 1s steps(1) infinite;\n",
              "  }\n",
              "\n",
              "  @keyframes spin {\n",
              "    0% {\n",
              "      border-color: transparent;\n",
              "      border-bottom-color: var(--fill-color);\n",
              "      border-left-color: var(--fill-color);\n",
              "    }\n",
              "    20% {\n",
              "      border-color: transparent;\n",
              "      border-left-color: var(--fill-color);\n",
              "      border-top-color: var(--fill-color);\n",
              "    }\n",
              "    30% {\n",
              "      border-color: transparent;\n",
              "      border-left-color: var(--fill-color);\n",
              "      border-top-color: var(--fill-color);\n",
              "      border-right-color: var(--fill-color);\n",
              "    }\n",
              "    40% {\n",
              "      border-color: transparent;\n",
              "      border-right-color: var(--fill-color);\n",
              "      border-top-color: var(--fill-color);\n",
              "    }\n",
              "    60% {\n",
              "      border-color: transparent;\n",
              "      border-right-color: var(--fill-color);\n",
              "    }\n",
              "    80% {\n",
              "      border-color: transparent;\n",
              "      border-right-color: var(--fill-color);\n",
              "      border-bottom-color: var(--fill-color);\n",
              "    }\n",
              "    90% {\n",
              "      border-color: transparent;\n",
              "      border-bottom-color: var(--fill-color);\n",
              "    }\n",
              "  }\n",
              "</style>\n",
              "\n",
              "  <script>\n",
              "    async function quickchart(key) {\n",
              "      const quickchartButtonEl =\n",
              "        document.querySelector('#' + key + ' button');\n",
              "      quickchartButtonEl.disabled = true;  // To prevent multiple clicks.\n",
              "      quickchartButtonEl.classList.add('colab-df-spinner');\n",
              "      try {\n",
              "        const charts = await google.colab.kernel.invokeFunction(\n",
              "            'suggestCharts', [key], {});\n",
              "      } catch (error) {\n",
              "        console.error('Error during call to suggestCharts:', error);\n",
              "      }\n",
              "      quickchartButtonEl.classList.remove('colab-df-spinner');\n",
              "      quickchartButtonEl.classList.add('colab-df-quickchart-complete');\n",
              "    }\n",
              "    (() => {\n",
              "      let quickchartButtonEl =\n",
              "        document.querySelector('#df-14407eed-2acf-4d4c-a098-3fbb7fa1175b button');\n",
              "      quickchartButtonEl.style.display =\n",
              "        google.colab.kernel.accessAllowed ? 'block' : 'none';\n",
              "    })();\n",
              "  </script>\n",
              "</div>\n",
              "\n",
              "    </div>\n",
              "  </div>\n"
            ]
          },
          "metadata": {},
          "execution_count": 21
        }
      ],
      "source": [
        "df.head()"
      ]
    },
    {
      "cell_type": "code",
      "execution_count": 22,
      "id": "e0dc62fd-f099-46c4-a93e-a8d13e3f565e",
      "metadata": {
        "colab": {
          "base_uri": "https://localhost:8080/"
        },
        "execution": {
          "iopub.execute_input": "2022-11-13T14:48:20.337870Z",
          "iopub.status.busy": "2022-11-13T14:48:20.337631Z",
          "iopub.status.idle": "2022-11-13T14:48:20.368850Z",
          "shell.execute_reply": "2022-11-13T14:48:20.368361Z",
          "shell.execute_reply.started": "2022-11-13T14:48:20.337857Z"
        },
        "id": "e0dc62fd-f099-46c4-a93e-a8d13e3f565e",
        "outputId": "d23c7768-3023-43cf-a6be-3b1a5b8aec46",
        "tags": []
      },
      "outputs": [
        {
          "output_type": "stream",
          "name": "stdout",
          "text": [
            "<class 'pandas.core.frame.DataFrame'>\n",
            "RangeIndex: 13042 entries, 0 to 13041\n",
            "Data columns (total 2 columns):\n",
            " #   Column  Non-Null Count  Dtype \n",
            "---  ------  --------------  ----- \n",
            " 0   image   13042 non-null  object\n",
            " 1   labels  13042 non-null  object\n",
            "dtypes: object(2)\n",
            "memory usage: 203.9+ KB\n"
          ]
        }
      ],
      "source": [
        "df.info()"
      ]
    },
    {
      "cell_type": "code",
      "execution_count": 23,
      "id": "e026e3ea-9f4b-47b5-976f-a25dc5ddb68b",
      "metadata": {
        "colab": {
          "base_uri": "https://localhost:8080/",
          "height": 363
        },
        "execution": {
          "iopub.execute_input": "2022-11-13T14:48:24.572572Z",
          "iopub.status.busy": "2022-11-13T14:48:24.572330Z",
          "iopub.status.idle": "2022-11-13T14:48:24.596297Z",
          "shell.execute_reply": "2022-11-13T14:48:24.595785Z",
          "shell.execute_reply.started": "2022-11-13T14:48:24.572558Z"
        },
        "id": "e026e3ea-9f4b-47b5-976f-a25dc5ddb68b",
        "outputId": "04cb7c25-8941-4c50-854e-6621649e8f0f",
        "tags": []
      },
      "outputs": [
        {
          "output_type": "execute_result",
          "data": {
            "text/plain": [
              "                image                   labels\n",
              "0   train_image_1.jpg           powdery_mildew\n",
              "1   train_image_2.jpg                     scab\n",
              "2   train_image_3.jpg  scab frog_eye_leaf_spot\n",
              "3   train_image_4.jpg           powdery_mildew\n",
              "4   train_image_5.jpg                  complex\n",
              "5   train_image_6.jpg                     rust\n",
              "6   train_image_7.jpg  scab frog_eye_leaf_spot\n",
              "7   train_image_8.jpg  scab frog_eye_leaf_spot\n",
              "8   train_image_9.jpg       frog_eye_leaf_spot\n",
              "9  train_image_10.jpg       frog_eye_leaf_spot"
            ],
            "text/html": [
              "\n",
              "  <div id=\"df-4d9dd9a7-ea29-436e-9e71-b91570053010\" class=\"colab-df-container\">\n",
              "    <div>\n",
              "<style scoped>\n",
              "    .dataframe tbody tr th:only-of-type {\n",
              "        vertical-align: middle;\n",
              "    }\n",
              "\n",
              "    .dataframe tbody tr th {\n",
              "        vertical-align: top;\n",
              "    }\n",
              "\n",
              "    .dataframe thead th {\n",
              "        text-align: right;\n",
              "    }\n",
              "</style>\n",
              "<table border=\"1\" class=\"dataframe\">\n",
              "  <thead>\n",
              "    <tr style=\"text-align: right;\">\n",
              "      <th></th>\n",
              "      <th>image</th>\n",
              "      <th>labels</th>\n",
              "    </tr>\n",
              "  </thead>\n",
              "  <tbody>\n",
              "    <tr>\n",
              "      <th>0</th>\n",
              "      <td>train_image_1.jpg</td>\n",
              "      <td>powdery_mildew</td>\n",
              "    </tr>\n",
              "    <tr>\n",
              "      <th>1</th>\n",
              "      <td>train_image_2.jpg</td>\n",
              "      <td>scab</td>\n",
              "    </tr>\n",
              "    <tr>\n",
              "      <th>2</th>\n",
              "      <td>train_image_3.jpg</td>\n",
              "      <td>scab frog_eye_leaf_spot</td>\n",
              "    </tr>\n",
              "    <tr>\n",
              "      <th>3</th>\n",
              "      <td>train_image_4.jpg</td>\n",
              "      <td>powdery_mildew</td>\n",
              "    </tr>\n",
              "    <tr>\n",
              "      <th>4</th>\n",
              "      <td>train_image_5.jpg</td>\n",
              "      <td>complex</td>\n",
              "    </tr>\n",
              "    <tr>\n",
              "      <th>5</th>\n",
              "      <td>train_image_6.jpg</td>\n",
              "      <td>rust</td>\n",
              "    </tr>\n",
              "    <tr>\n",
              "      <th>6</th>\n",
              "      <td>train_image_7.jpg</td>\n",
              "      <td>scab frog_eye_leaf_spot</td>\n",
              "    </tr>\n",
              "    <tr>\n",
              "      <th>7</th>\n",
              "      <td>train_image_8.jpg</td>\n",
              "      <td>scab frog_eye_leaf_spot</td>\n",
              "    </tr>\n",
              "    <tr>\n",
              "      <th>8</th>\n",
              "      <td>train_image_9.jpg</td>\n",
              "      <td>frog_eye_leaf_spot</td>\n",
              "    </tr>\n",
              "    <tr>\n",
              "      <th>9</th>\n",
              "      <td>train_image_10.jpg</td>\n",
              "      <td>frog_eye_leaf_spot</td>\n",
              "    </tr>\n",
              "  </tbody>\n",
              "</table>\n",
              "</div>\n",
              "    <div class=\"colab-df-buttons\">\n",
              "\n",
              "  <div class=\"colab-df-container\">\n",
              "    <button class=\"colab-df-convert\" onclick=\"convertToInteractive('df-4d9dd9a7-ea29-436e-9e71-b91570053010')\"\n",
              "            title=\"Convert this dataframe to an interactive table.\"\n",
              "            style=\"display:none;\">\n",
              "\n",
              "  <svg xmlns=\"http://www.w3.org/2000/svg\" height=\"24px\" viewBox=\"0 -960 960 960\">\n",
              "    <path d=\"M120-120v-720h720v720H120Zm60-500h600v-160H180v160Zm220 220h160v-160H400v160Zm0 220h160v-160H400v160ZM180-400h160v-160H180v160Zm440 0h160v-160H620v160ZM180-180h160v-160H180v160Zm440 0h160v-160H620v160Z\"/>\n",
              "  </svg>\n",
              "    </button>\n",
              "\n",
              "  <style>\n",
              "    .colab-df-container {\n",
              "      display:flex;\n",
              "      gap: 12px;\n",
              "    }\n",
              "\n",
              "    .colab-df-convert {\n",
              "      background-color: #E8F0FE;\n",
              "      border: none;\n",
              "      border-radius: 50%;\n",
              "      cursor: pointer;\n",
              "      display: none;\n",
              "      fill: #1967D2;\n",
              "      height: 32px;\n",
              "      padding: 0 0 0 0;\n",
              "      width: 32px;\n",
              "    }\n",
              "\n",
              "    .colab-df-convert:hover {\n",
              "      background-color: #E2EBFA;\n",
              "      box-shadow: 0px 1px 2px rgba(60, 64, 67, 0.3), 0px 1px 3px 1px rgba(60, 64, 67, 0.15);\n",
              "      fill: #174EA6;\n",
              "    }\n",
              "\n",
              "    .colab-df-buttons div {\n",
              "      margin-bottom: 4px;\n",
              "    }\n",
              "\n",
              "    [theme=dark] .colab-df-convert {\n",
              "      background-color: #3B4455;\n",
              "      fill: #D2E3FC;\n",
              "    }\n",
              "\n",
              "    [theme=dark] .colab-df-convert:hover {\n",
              "      background-color: #434B5C;\n",
              "      box-shadow: 0px 1px 3px 1px rgba(0, 0, 0, 0.15);\n",
              "      filter: drop-shadow(0px 1px 2px rgba(0, 0, 0, 0.3));\n",
              "      fill: #FFFFFF;\n",
              "    }\n",
              "  </style>\n",
              "\n",
              "    <script>\n",
              "      const buttonEl =\n",
              "        document.querySelector('#df-4d9dd9a7-ea29-436e-9e71-b91570053010 button.colab-df-convert');\n",
              "      buttonEl.style.display =\n",
              "        google.colab.kernel.accessAllowed ? 'block' : 'none';\n",
              "\n",
              "      async function convertToInteractive(key) {\n",
              "        const element = document.querySelector('#df-4d9dd9a7-ea29-436e-9e71-b91570053010');\n",
              "        const dataTable =\n",
              "          await google.colab.kernel.invokeFunction('convertToInteractive',\n",
              "                                                    [key], {});\n",
              "        if (!dataTable) return;\n",
              "\n",
              "        const docLinkHtml = 'Like what you see? Visit the ' +\n",
              "          '<a target=\"_blank\" href=https://colab.research.google.com/notebooks/data_table.ipynb>data table notebook</a>'\n",
              "          + ' to learn more about interactive tables.';\n",
              "        element.innerHTML = '';\n",
              "        dataTable['output_type'] = 'display_data';\n",
              "        await google.colab.output.renderOutput(dataTable, element);\n",
              "        const docLink = document.createElement('div');\n",
              "        docLink.innerHTML = docLinkHtml;\n",
              "        element.appendChild(docLink);\n",
              "      }\n",
              "    </script>\n",
              "  </div>\n",
              "\n",
              "\n",
              "<div id=\"df-f2435b9c-dfa0-4043-870b-9aae47a691cd\">\n",
              "  <button class=\"colab-df-quickchart\" onclick=\"quickchart('df-f2435b9c-dfa0-4043-870b-9aae47a691cd')\"\n",
              "            title=\"Suggest charts\"\n",
              "            style=\"display:none;\">\n",
              "\n",
              "<svg xmlns=\"http://www.w3.org/2000/svg\" height=\"24px\"viewBox=\"0 0 24 24\"\n",
              "     width=\"24px\">\n",
              "    <g>\n",
              "        <path d=\"M19 3H5c-1.1 0-2 .9-2 2v14c0 1.1.9 2 2 2h14c1.1 0 2-.9 2-2V5c0-1.1-.9-2-2-2zM9 17H7v-7h2v7zm4 0h-2V7h2v10zm4 0h-2v-4h2v4z\"/>\n",
              "    </g>\n",
              "</svg>\n",
              "  </button>\n",
              "\n",
              "<style>\n",
              "  .colab-df-quickchart {\n",
              "      --bg-color: #E8F0FE;\n",
              "      --fill-color: #1967D2;\n",
              "      --hover-bg-color: #E2EBFA;\n",
              "      --hover-fill-color: #174EA6;\n",
              "      --disabled-fill-color: #AAA;\n",
              "      --disabled-bg-color: #DDD;\n",
              "  }\n",
              "\n",
              "  [theme=dark] .colab-df-quickchart {\n",
              "      --bg-color: #3B4455;\n",
              "      --fill-color: #D2E3FC;\n",
              "      --hover-bg-color: #434B5C;\n",
              "      --hover-fill-color: #FFFFFF;\n",
              "      --disabled-bg-color: #3B4455;\n",
              "      --disabled-fill-color: #666;\n",
              "  }\n",
              "\n",
              "  .colab-df-quickchart {\n",
              "    background-color: var(--bg-color);\n",
              "    border: none;\n",
              "    border-radius: 50%;\n",
              "    cursor: pointer;\n",
              "    display: none;\n",
              "    fill: var(--fill-color);\n",
              "    height: 32px;\n",
              "    padding: 0;\n",
              "    width: 32px;\n",
              "  }\n",
              "\n",
              "  .colab-df-quickchart:hover {\n",
              "    background-color: var(--hover-bg-color);\n",
              "    box-shadow: 0 1px 2px rgba(60, 64, 67, 0.3), 0 1px 3px 1px rgba(60, 64, 67, 0.15);\n",
              "    fill: var(--button-hover-fill-color);\n",
              "  }\n",
              "\n",
              "  .colab-df-quickchart-complete:disabled,\n",
              "  .colab-df-quickchart-complete:disabled:hover {\n",
              "    background-color: var(--disabled-bg-color);\n",
              "    fill: var(--disabled-fill-color);\n",
              "    box-shadow: none;\n",
              "  }\n",
              "\n",
              "  .colab-df-spinner {\n",
              "    border: 2px solid var(--fill-color);\n",
              "    border-color: transparent;\n",
              "    border-bottom-color: var(--fill-color);\n",
              "    animation:\n",
              "      spin 1s steps(1) infinite;\n",
              "  }\n",
              "\n",
              "  @keyframes spin {\n",
              "    0% {\n",
              "      border-color: transparent;\n",
              "      border-bottom-color: var(--fill-color);\n",
              "      border-left-color: var(--fill-color);\n",
              "    }\n",
              "    20% {\n",
              "      border-color: transparent;\n",
              "      border-left-color: var(--fill-color);\n",
              "      border-top-color: var(--fill-color);\n",
              "    }\n",
              "    30% {\n",
              "      border-color: transparent;\n",
              "      border-left-color: var(--fill-color);\n",
              "      border-top-color: var(--fill-color);\n",
              "      border-right-color: var(--fill-color);\n",
              "    }\n",
              "    40% {\n",
              "      border-color: transparent;\n",
              "      border-right-color: var(--fill-color);\n",
              "      border-top-color: var(--fill-color);\n",
              "    }\n",
              "    60% {\n",
              "      border-color: transparent;\n",
              "      border-right-color: var(--fill-color);\n",
              "    }\n",
              "    80% {\n",
              "      border-color: transparent;\n",
              "      border-right-color: var(--fill-color);\n",
              "      border-bottom-color: var(--fill-color);\n",
              "    }\n",
              "    90% {\n",
              "      border-color: transparent;\n",
              "      border-bottom-color: var(--fill-color);\n",
              "    }\n",
              "  }\n",
              "</style>\n",
              "\n",
              "  <script>\n",
              "    async function quickchart(key) {\n",
              "      const quickchartButtonEl =\n",
              "        document.querySelector('#' + key + ' button');\n",
              "      quickchartButtonEl.disabled = true;  // To prevent multiple clicks.\n",
              "      quickchartButtonEl.classList.add('colab-df-spinner');\n",
              "      try {\n",
              "        const charts = await google.colab.kernel.invokeFunction(\n",
              "            'suggestCharts', [key], {});\n",
              "      } catch (error) {\n",
              "        console.error('Error during call to suggestCharts:', error);\n",
              "      }\n",
              "      quickchartButtonEl.classList.remove('colab-df-spinner');\n",
              "      quickchartButtonEl.classList.add('colab-df-quickchart-complete');\n",
              "    }\n",
              "    (() => {\n",
              "      let quickchartButtonEl =\n",
              "        document.querySelector('#df-f2435b9c-dfa0-4043-870b-9aae47a691cd button');\n",
              "      quickchartButtonEl.style.display =\n",
              "        google.colab.kernel.accessAllowed ? 'block' : 'none';\n",
              "    })();\n",
              "  </script>\n",
              "</div>\n",
              "\n",
              "    </div>\n",
              "  </div>\n"
            ]
          },
          "metadata": {},
          "execution_count": 23
        }
      ],
      "source": [
        "df.iloc[0:10, ]"
      ]
    },
    {
      "cell_type": "code",
      "execution_count": 24,
      "id": "e8b9f215-82d1-4309-b406-afee5ec4c8f6",
      "metadata": {
        "colab": {
          "base_uri": "https://localhost:8080/"
        },
        "execution": {
          "iopub.execute_input": "2022-11-13T14:48:28.697406Z",
          "iopub.status.busy": "2022-11-13T14:48:28.697103Z",
          "iopub.status.idle": "2022-11-13T14:48:28.740016Z",
          "shell.execute_reply": "2022-11-13T14:48:28.739571Z",
          "shell.execute_reply.started": "2022-11-13T14:48:28.697390Z"
        },
        "id": "e8b9f215-82d1-4309-b406-afee5ec4c8f6",
        "outputId": "0ff04328-d739-4bda-d40a-751508ff20bf",
        "tags": []
      },
      "outputs": [
        {
          "output_type": "execute_result",
          "data": {
            "text/plain": [
              "(Path('/content/inclass_kaggle_data/train/train/train_image_10535.jpg'),\n",
              " ['rust', 'complex'])"
            ]
          },
          "metadata": {},
          "execution_count": 24
        }
      ],
      "source": [
        "# def get_x(df): return str(small_train_images) + '/' + (df['image'])\n",
        "def get_x(df):\n",
        "  return data_folder/'train/train'/df['image']\n",
        "def get_y(df):\n",
        "  return df['labels'].split(' ')\n",
        "dblock = DataBlock(get_x= get_x,\n",
        "                   get_y = get_y,\n",
        "                   splitter = RandomSplitter(seed = 42))\n",
        "dsets = dblock.datasets(df)\n",
        "dsets.train[15]"
      ]
    },
    {
      "cell_type": "code",
      "execution_count": 25,
      "id": "5c0162d8-8ada-4e82-9120-7ed6e8844c29",
      "metadata": {
        "colab": {
          "base_uri": "https://localhost:8080/"
        },
        "execution": {
          "iopub.execute_input": "2022-11-13T14:48:29.672655Z",
          "iopub.status.busy": "2022-11-13T14:48:29.672253Z",
          "iopub.status.idle": "2022-11-13T14:48:30.942356Z",
          "shell.execute_reply": "2022-11-13T14:48:30.941917Z",
          "shell.execute_reply.started": "2022-11-13T14:48:29.672639Z"
        },
        "id": "5c0162d8-8ada-4e82-9120-7ed6e8844c29",
        "outputId": "ab01f67b-2bfd-48cf-8c2f-959a94354430",
        "tags": []
      },
      "outputs": [
        {
          "output_type": "execute_result",
          "data": {
            "text/plain": [
              "(PILImage mode=RGB size=600x400, TensorMultiCategory([1., 0., 0., 0., 1., 0.]))"
            ]
          },
          "metadata": {},
          "execution_count": 25
        }
      ],
      "source": [
        "dblock = DataBlock(blocks= (ImageBlock, MultiCategoryBlock),\n",
        "                   get_x= get_x,\n",
        "                   get_y = get_y,\n",
        "                  splitter = RandomSplitter(seed = 42))\n",
        "dsets = dblock.datasets(df)\n",
        "dsets.train[15]"
      ]
    },
    {
      "cell_type": "code",
      "execution_count": 26,
      "id": "21d2d0af-fdd6-49de-bcfd-d83d5c506e3d",
      "metadata": {
        "colab": {
          "base_uri": "https://localhost:8080/"
        },
        "execution": {
          "iopub.execute_input": "2022-11-13T14:48:30.943241Z",
          "iopub.status.busy": "2022-11-13T14:48:30.943057Z",
          "iopub.status.idle": "2022-11-13T14:48:30.972135Z",
          "shell.execute_reply": "2022-11-13T14:48:30.971745Z",
          "shell.execute_reply.started": "2022-11-13T14:48:30.943228Z"
        },
        "id": "21d2d0af-fdd6-49de-bcfd-d83d5c506e3d",
        "outputId": "974b0f14-348b-4ce0-e285-85afc3916802",
        "tags": []
      },
      "outputs": [
        {
          "output_type": "execute_result",
          "data": {
            "text/plain": [
              "['complex', 'frog_eye_leaf_spot', 'healthy', 'powdery_mildew', 'rust', 'scab']"
            ]
          },
          "metadata": {},
          "execution_count": 26
        }
      ],
      "source": [
        "dsets.train.vocab"
      ]
    },
    {
      "cell_type": "code",
      "execution_count": 27,
      "id": "4e409c8e-6412-4854-96af-3a9abef65fe5",
      "metadata": {
        "execution": {
          "iopub.execute_input": "2022-11-13T14:48:34.069066Z",
          "iopub.status.busy": "2022-11-13T14:48:34.068849Z",
          "iopub.status.idle": "2022-11-13T14:48:34.178096Z",
          "shell.execute_reply": "2022-11-13T14:48:34.177609Z",
          "shell.execute_reply.started": "2022-11-13T14:48:34.069052Z"
        },
        "id": "4e409c8e-6412-4854-96af-3a9abef65fe5",
        "tags": []
      },
      "outputs": [],
      "source": [
        "idxs = torch.where(dsets.train[15][1] == 1.)[0]"
      ]
    },
    {
      "cell_type": "code",
      "execution_count": 28,
      "id": "4004901c-6218-4849-821d-a00d8431889d",
      "metadata": {
        "colab": {
          "base_uri": "https://localhost:8080/"
        },
        "execution": {
          "iopub.execute_input": "2022-11-13T14:48:34.533419Z",
          "iopub.status.busy": "2022-11-13T14:48:34.533015Z",
          "iopub.status.idle": "2022-11-13T14:48:34.565804Z",
          "shell.execute_reply": "2022-11-13T14:48:34.565436Z",
          "shell.execute_reply.started": "2022-11-13T14:48:34.533403Z"
        },
        "id": "4004901c-6218-4849-821d-a00d8431889d",
        "outputId": "5134a60e-7708-4036-b712-ee06a3308a09",
        "tags": []
      },
      "outputs": [
        {
          "output_type": "execute_result",
          "data": {
            "text/plain": [
              "(#2) ['complex','rust']"
            ]
          },
          "metadata": {},
          "execution_count": 28
        }
      ],
      "source": [
        "dsets.train.vocab[idxs]"
      ]
    },
    {
      "cell_type": "code",
      "execution_count": 29,
      "id": "6cbd76ec-6109-4234-ad74-cc6b0d63536c",
      "metadata": {
        "colab": {
          "base_uri": "https://localhost:8080/"
        },
        "execution": {
          "iopub.execute_input": "2022-11-13T14:48:35.135154Z",
          "iopub.status.busy": "2022-11-13T14:48:35.134927Z",
          "iopub.status.idle": "2022-11-13T14:48:36.405006Z",
          "shell.execute_reply": "2022-11-13T14:48:36.404449Z",
          "shell.execute_reply.started": "2022-11-13T14:48:35.135140Z"
        },
        "id": "6cbd76ec-6109-4234-ad74-cc6b0d63536c",
        "outputId": "7b8fd19a-a2ee-431a-8b4c-994c61ad3f15",
        "tags": []
      },
      "outputs": [
        {
          "output_type": "execute_result",
          "data": {
            "text/plain": [
              "(PILImage mode=RGB size=600x400, TensorMultiCategory([0., 0., 0., 0., 0., 1.]))"
            ]
          },
          "metadata": {},
          "execution_count": 29
        }
      ],
      "source": [
        "dblock = DataBlock(blocks= (ImageBlock, MultiCategoryBlock),\n",
        "                  get_x= get_x,\n",
        "                  get_y = get_y,\n",
        "                  splitter = RandomSplitter(seed = 42),\n",
        "                  item_tfms= Resize(400, method = 'squish'),\n",
        "                  batch_tfms= aug_transforms(size = 128, min_scale = 0.75))\n",
        "dsets = dblock.datasets(df)\n",
        "dsets.train[3]"
      ]
    },
    {
      "cell_type": "code",
      "source": [
        "import os\n",
        "os.cpu_count()"
      ],
      "metadata": {
        "colab": {
          "base_uri": "https://localhost:8080/"
        },
        "id": "ThlKYnee3P14",
        "outputId": "3dcaa1d0-5959-419d-fbd2-8e9224f649a1"
      },
      "id": "ThlKYnee3P14",
      "execution_count": 30,
      "outputs": [
        {
          "output_type": "execute_result",
          "data": {
            "text/plain": [
              "8"
            ]
          },
          "metadata": {},
          "execution_count": 30
        }
      ]
    },
    {
      "cell_type": "code",
      "execution_count": 31,
      "id": "e2328ed7-3552-4023-a46f-4a77974af914",
      "metadata": {
        "execution": {
          "iopub.execute_input": "2022-11-13T14:48:36.406078Z",
          "iopub.status.busy": "2022-11-13T14:48:36.405917Z",
          "iopub.status.idle": "2022-11-13T14:48:39.954701Z",
          "shell.execute_reply": "2022-11-13T14:48:39.954081Z",
          "shell.execute_reply.started": "2022-11-13T14:48:36.406066Z"
        },
        "id": "e2328ed7-3552-4023-a46f-4a77974af914",
        "tags": []
      },
      "outputs": [],
      "source": [
        "dls = dblock.dataloaders(df, bs = 64, num_workers =8)"
      ]
    },
    {
      "cell_type": "code",
      "execution_count": 32,
      "id": "55f11bf1-6f85-4284-8fd5-7cc8017040e5",
      "metadata": {
        "colab": {
          "base_uri": "https://localhost:8080/",
          "height": 264
        },
        "execution": {
          "iopub.execute_input": "2022-11-13T14:48:40.009266Z",
          "iopub.status.busy": "2022-11-13T14:48:40.009059Z",
          "iopub.status.idle": "2022-11-13T14:48:49.879815Z",
          "shell.execute_reply": "2022-11-13T14:48:49.879398Z",
          "shell.execute_reply.started": "2022-11-13T14:48:40.009238Z"
        },
        "id": "55f11bf1-6f85-4284-8fd5-7cc8017040e5",
        "outputId": "943d40bc-0fcc-4986-c234-58ca6bc96919",
        "tags": []
      },
      "outputs": [
        {
          "output_type": "display_data",
          "data": {
            "text/plain": [
              "<Figure size 900x300 with 3 Axes>"
            ],
            "image/png": "[encoded data removed]"
          },
          "metadata": {}
        }
      ],
      "source": [
        "dls.train.show_batch(max_n=3)"
      ]
    },
    {
      "cell_type": "code",
      "execution_count": 33,
      "id": "5f3a5ce9-792e-4597-911f-4b9d3860213c",
      "metadata": {
        "colab": {
          "base_uri": "https://localhost:8080/"
        },
        "execution": {
          "iopub.execute_input": "2022-11-13T14:48:55.524710Z",
          "iopub.status.busy": "2022-11-13T14:48:55.524489Z",
          "iopub.status.idle": "2022-11-13T14:48:55.548445Z",
          "shell.execute_reply": "2022-11-13T14:48:55.547811Z",
          "shell.execute_reply.started": "2022-11-13T14:48:55.524696Z"
        },
        "id": "5f3a5ce9-792e-4597-911f-4b9d3860213c",
        "outputId": "7039559f-ac8c-4417-f298-a3bbcf02390a",
        "tags": []
      },
      "outputs": [
        {
          "output_type": "execute_result",
          "data": {
            "text/plain": [
              "device(type='cuda', index=0)"
            ]
          },
          "metadata": {},
          "execution_count": 33
        }
      ],
      "source": [
        "dls.device"
      ]
    },
    {
      "cell_type": "code",
      "source": [],
      "metadata": {
        "id": "gFXawSX-CWA7"
      },
      "id": "gFXawSX-CWA7",
      "execution_count": null,
      "outputs": []
    },
    {
      "cell_type": "markdown",
      "metadata": {
        "execution": {
          "iopub.execute_input": "2022-11-11T22:20:36.816599Z",
          "iopub.status.busy": "2022-11-11T22:20:36.816357Z",
          "iopub.status.idle": "2022-11-11T22:20:36.818642Z",
          "shell.execute_reply": "2022-11-11T22:20:36.818336Z",
          "shell.execute_reply.started": "2022-11-11T22:20:36.816572Z"
        },
        "tags": [],
        "id": "wfJmvVmoCXkp"
      },
      "source": [
        "# <font color = 'pickle'> Model"
      ],
      "id": "wfJmvVmoCXkp"
    },
    {
      "cell_type": "code",
      "execution_count": null,
      "metadata": {
        "execution": {
          "iopub.execute_input": "2022-11-13T14:49:04.548579Z",
          "iopub.status.busy": "2022-11-13T14:49:04.548387Z",
          "iopub.status.idle": "2022-11-13T14:49:04.733557Z",
          "shell.execute_reply": "2022-11-13T14:49:04.733140Z",
          "shell.execute_reply.started": "2022-11-13T14:49:04.548566Z"
        },
        "id": "00d936e4-3ead-414a-a182-d42d0b0ad9c4",
        "tags": []
      },
      "outputs": [],
      "source": [
        "f1score = F1ScoreMulti(thresh = 0.5)\n",
        "loss_func = nn.BCEWithLogitsLoss()\n",
        "learn = vision_learner(dls,'resnet26d', metrics = [F1ScoreMulti(thresh = 0.5)], path = model_folder).to_fp16()"
      ],
      "id": "00d936e4-3ead-414a-a182-d42d0b0ad9c4"
    },
    {
      "cell_type": "code",
      "execution_count": null,
      "metadata": {
        "colab": {
          "base_uri": "https://localhost:8080/",
          "height": 471
        },
        "execution": {
          "iopub.execute_input": "2022-11-13T14:49:06.168960Z",
          "iopub.status.busy": "2022-11-13T14:49:06.168748Z",
          "iopub.status.idle": "2022-11-13T14:52:57.115936Z",
          "shell.execute_reply": "2022-11-13T14:52:57.115343Z",
          "shell.execute_reply.started": "2022-11-13T14:49:06.168946Z"
        },
        "id": "8bea1abd-2d72-4df2-b398-72d7bc0f938f",
        "outputId": "21a56ef1-9e5d-49a2-e8c5-3d00bef3c7cf",
        "tags": []
      },
      "outputs": [
        {
          "output_type": "display_data",
          "data": {
            "text/plain": [
              "<IPython.core.display.HTML object>"
            ],
            "text/html": [
              "\n",
              "<style>\n",
              "    /* Turns off some styling */\n",
              "    progress {\n",
              "        /* gets rid of default border in Firefox and Opera. */\n",
              "        border: none;\n",
              "        /* Needs to be in here for Safari polyfill so background images work as expected. */\n",
              "        background-size: auto;\n",
              "    }\n",
              "    progress:not([value]), progress:not([value])::-webkit-progress-bar {\n",
              "        background: repeating-linear-gradient(45deg, #7e7e7e, #7e7e7e 10px, #5c5c5c 10px, #5c5c5c 20px);\n",
              "    }\n",
              "    .progress-bar-interrupted, .progress-bar-interrupted::-webkit-progress-bar {\n",
              "        background: #F44336;\n",
              "    }\n",
              "</style>\n"
            ]
          },
          "metadata": {}
        },
        {
          "output_type": "display_data",
          "data": {
            "text/plain": [
              "<IPython.core.display.HTML object>"
            ],
            "text/html": []
          },
          "metadata": {}
        },
        {
          "output_type": "execute_result",
          "data": {
            "text/plain": [
              "SuggestedLRs(minimum=0.025118863582611083, steep=0.02754228748381138, valley=0.001737800776027143, slide=0.015848932787775993)"
            ]
          },
          "metadata": {},
          "execution_count": 35
        },
        {
          "output_type": "display_data",
          "data": {
            "text/plain": [
              "<Figure size 640x480 with 1 Axes>"
            ],
            "image/png": "[encoded data removed]"
          },
          "metadata": {}
        }
      ],
      "source": [
        "learn.lr_find(suggest_funcs = (minimum, steep, valley, slide))"
      ],
      "id": "8bea1abd-2d72-4df2-b398-72d7bc0f938f"
    },
    {
      "cell_type": "code",
      "execution_count": null,
      "metadata": {
        "colab": {
          "base_uri": "https://localhost:8080/",
          "height": 206
        },
        "execution": {
          "iopub.execute_input": "2022-11-13T14:52:57.117100Z",
          "iopub.status.busy": "2022-11-13T14:52:57.116888Z",
          "iopub.status.idle": "2022-11-13T15:26:39.273879Z",
          "shell.execute_reply": "2022-11-13T15:26:39.273324Z",
          "shell.execute_reply.started": "2022-11-13T14:52:57.117085Z"
        },
        "id": "e59d7cdc-39ae-481e-bfaf-88ddf511aaf3",
        "outputId": "06f64e12-a989-4b37-d477-2b78c8b90ef9",
        "tags": []
      },
      "outputs": [
        {
          "output_type": "display_data",
          "data": {
            "text/plain": [
              "<IPython.core.display.HTML object>"
            ],
            "text/html": [
              "\n",
              "<style>\n",
              "    /* Turns off some styling */\n",
              "    progress {\n",
              "        /* gets rid of default border in Firefox and Opera. */\n",
              "        border: none;\n",
              "        /* Needs to be in here for Safari polyfill so background images work as expected. */\n",
              "        background-size: auto;\n",
              "    }\n",
              "    progress:not([value]), progress:not([value])::-webkit-progress-bar {\n",
              "        background: repeating-linear-gradient(45deg, #7e7e7e, #7e7e7e 10px, #5c5c5c 10px, #5c5c5c 20px);\n",
              "    }\n",
              "    .progress-bar-interrupted, .progress-bar-interrupted::-webkit-progress-bar {\n",
              "        background: #F44336;\n",
              "    }\n",
              "</style>\n"
            ]
          },
          "metadata": {}
        },
        {
          "output_type": "display_data",
          "data": {
            "text/plain": [
              "<IPython.core.display.HTML object>"
            ],
            "text/html": [
              "<table border=\"1\" class=\"dataframe\">\n",
              "  <thead>\n",
              "    <tr style=\"text-align: left;\">\n",
              "      <th>epoch</th>\n",
              "      <th>train_loss</th>\n",
              "      <th>valid_loss</th>\n",
              "      <th>f1_score</th>\n",
              "      <th>time</th>\n",
              "    </tr>\n",
              "  </thead>\n",
              "  <tbody>\n",
              "    <tr>\n",
              "      <td>0</td>\n",
              "      <td>0.377239</td>\n",
              "      <td>0.284189</td>\n",
              "      <td>0.631706</td>\n",
              "      <td>00:24</td>\n",
              "    </tr>\n",
              "  </tbody>\n",
              "</table>"
            ]
          },
          "metadata": {}
        },
        {
          "output_type": "display_data",
          "data": {
            "text/plain": [
              "<IPython.core.display.HTML object>"
            ],
            "text/html": [
              "\n",
              "<style>\n",
              "    /* Turns off some styling */\n",
              "    progress {\n",
              "        /* gets rid of default border in Firefox and Opera. */\n",
              "        border: none;\n",
              "        /* Needs to be in here for Safari polyfill so background images work as expected. */\n",
              "        background-size: auto;\n",
              "    }\n",
              "    progress:not([value]), progress:not([value])::-webkit-progress-bar {\n",
              "        background: repeating-linear-gradient(45deg, #7e7e7e, #7e7e7e 10px, #5c5c5c 10px, #5c5c5c 20px);\n",
              "    }\n",
              "    .progress-bar-interrupted, .progress-bar-interrupted::-webkit-progress-bar {\n",
              "        background: #F44336;\n",
              "    }\n",
              "</style>\n"
            ]
          },
          "metadata": {}
        },
        {
          "output_type": "display_data",
          "data": {
            "text/plain": [
              "<IPython.core.display.HTML object>"
            ],
            "text/html": [
              "<table border=\"1\" class=\"dataframe\">\n",
              "  <thead>\n",
              "    <tr style=\"text-align: left;\">\n",
              "      <th>epoch</th>\n",
              "      <th>train_loss</th>\n",
              "      <th>valid_loss</th>\n",
              "      <th>f1_score</th>\n",
              "      <th>time</th>\n",
              "    </tr>\n",
              "  </thead>\n",
              "  <tbody>\n",
              "    <tr>\n",
              "      <td>0</td>\n",
              "      <td>0.206420</td>\n",
              "      <td>0.183851</td>\n",
              "      <td>0.791964</td>\n",
              "      <td>00:25</td>\n",
              "    </tr>\n",
              "    <tr>\n",
              "      <td>1</td>\n",
              "      <td>0.148369</td>\n",
              "      <td>0.134131</td>\n",
              "      <td>0.827366</td>\n",
              "      <td>00:24</td>\n",
              "    </tr>\n",
              "    <tr>\n",
              "      <td>2</td>\n",
              "      <td>0.107174</td>\n",
              "      <td>0.118625</td>\n",
              "      <td>0.852615</td>\n",
              "      <td>00:24</td>\n",
              "    </tr>\n",
              "  </tbody>\n",
              "</table>"
            ]
          },
          "metadata": {}
        }
      ],
      "source": [
        "learn.fine_tune(3, 0.03)"
      ],
      "id": "e59d7cdc-39ae-481e-bfaf-88ddf511aaf3"
    },
    {
      "cell_type": "markdown",
      "metadata": {
        "execution": {
          "iopub.execute_input": "2022-11-12T12:29:30.490008Z",
          "iopub.status.busy": "2022-11-12T12:29:30.489805Z",
          "iopub.status.idle": "2022-11-12T12:29:30.526076Z",
          "shell.execute_reply": "2022-11-12T12:29:30.525165Z",
          "shell.execute_reply.started": "2022-11-12T12:29:30.489989Z"
        },
        "id": "205d19e7-be46-4b10-9724-8851b34d7cb5"
      },
      "source": [
        "# <font color ='pickle'> Find the threshold"
      ],
      "id": "205d19e7-be46-4b10-9724-8851b34d7cb5"
    },
    {
      "cell_type": "code",
      "execution_count": null,
      "metadata": {
        "collapsed": true,
        "execution": {
          "iopub.execute_input": "2022-11-12T12:40:01.791629Z",
          "iopub.status.busy": "2022-11-12T12:40:01.791421Z",
          "iopub.status.idle": "2022-11-12T12:40:01.811560Z",
          "shell.execute_reply": "2022-11-12T12:40:01.810970Z",
          "shell.execute_reply.started": "2022-11-12T12:40:01.791616Z"
        },
        "id": "54451d6e-067f-452d-b25f-383b053d34b2",
        "jupyter": {
          "outputs_hidden": true
        },
        "tags": []
      },
      "outputs": [],
      "source": [
        "F1ScoreMulti??"
      ],
      "id": "54451d6e-067f-452d-b25f-383b053d34b2"
    },
    {
      "cell_type": "code",
      "execution_count": null,
      "metadata": {
        "execution": {
          "iopub.execute_input": "2022-11-13T15:47:39.510343Z",
          "iopub.status.busy": "2022-11-13T15:47:39.510131Z",
          "iopub.status.idle": "2022-11-13T15:47:39.536729Z",
          "shell.execute_reply": "2022-11-13T15:47:39.536203Z",
          "shell.execute_reply.started": "2022-11-13T15:47:39.510328Z"
        },
        "id": "e6ba20b6-a031-48f2-a749-dfec89f339c0",
        "tags": []
      },
      "outputs": [],
      "source": [
        "learn.metrics = F1ScoreMulti(thresh = 0.1)"
      ],
      "id": "e6ba20b6-a031-48f2-a749-dfec89f339c0"
    },
    {
      "cell_type": "code",
      "execution_count": null,
      "metadata": {
        "colab": {
          "base_uri": "https://localhost:8080/"
        },
        "execution": {
          "iopub.execute_input": "2022-11-13T15:47:40.644906Z",
          "iopub.status.busy": "2022-11-13T15:47:40.644695Z",
          "iopub.status.idle": "2022-11-13T15:47:40.668655Z",
          "shell.execute_reply": "2022-11-13T15:47:40.668151Z",
          "shell.execute_reply.started": "2022-11-13T15:47:40.644892Z"
        },
        "id": "325073e0-95ed-4720-b1d4-0fa237c6b91f",
        "outputId": "b13ccc23-668c-4a95-eebc-86dcd0594e17",
        "tags": []
      },
      "outputs": [
        {
          "output_type": "execute_result",
          "data": {
            "text/plain": [
              "(#1) [<fastai.metrics.AccumMetric object at 0x7d4c0e838490>]"
            ]
          },
          "metadata": {},
          "execution_count": 39
        }
      ],
      "source": [
        "learn.metrics"
      ],
      "id": "325073e0-95ed-4720-b1d4-0fa237c6b91f"
    },
    {
      "cell_type": "code",
      "execution_count": null,
      "metadata": {
        "colab": {
          "base_uri": "https://localhost:8080/",
          "height": 34
        },
        "execution": {
          "iopub.execute_input": "2022-11-13T15:47:41.309216Z",
          "iopub.status.busy": "2022-11-13T15:47:41.309031Z",
          "iopub.status.idle": "2022-11-13T15:49:22.586009Z",
          "shell.execute_reply": "2022-11-13T15:49:22.585602Z",
          "shell.execute_reply.started": "2022-11-13T15:47:41.309202Z"
        },
        "id": "ec327c1f-abaf-4d60-9503-3e0213fd8ccf",
        "outputId": "3b7ce663-ea6d-4cbb-c205-2b34f5b8638f",
        "tags": []
      },
      "outputs": [
        {
          "output_type": "display_data",
          "data": {
            "text/plain": [
              "<IPython.core.display.HTML object>"
            ],
            "text/html": [
              "\n",
              "<style>\n",
              "    /* Turns off some styling */\n",
              "    progress {\n",
              "        /* gets rid of default border in Firefox and Opera. */\n",
              "        border: none;\n",
              "        /* Needs to be in here for Safari polyfill so background images work as expected. */\n",
              "        background-size: auto;\n",
              "    }\n",
              "    progress:not([value]), progress:not([value])::-webkit-progress-bar {\n",
              "        background: repeating-linear-gradient(45deg, #7e7e7e, #7e7e7e 10px, #5c5c5c 10px, #5c5c5c 20px);\n",
              "    }\n",
              "    .progress-bar-interrupted, .progress-bar-interrupted::-webkit-progress-bar {\n",
              "        background: #F44336;\n",
              "    }\n",
              "</style>\n"
            ]
          },
          "metadata": {}
        },
        {
          "output_type": "display_data",
          "data": {
            "text/plain": [
              "<IPython.core.display.HTML object>"
            ],
            "text/html": []
          },
          "metadata": {}
        },
        {
          "output_type": "execute_result",
          "data": {
            "text/plain": [
              "(#2) [0.11862465739250183,0.8099160494764351]"
            ]
          },
          "metadata": {},
          "execution_count": 40
        }
      ],
      "source": [
        "learn.validate()"
      ],
      "id": "ec327c1f-abaf-4d60-9503-3e0213fd8ccf"
    },
    {
      "cell_type": "code",
      "execution_count": null,
      "metadata": {
        "execution": {
          "iopub.execute_input": "2022-11-13T15:49:22.586922Z",
          "iopub.status.busy": "2022-11-13T15:49:22.586751Z",
          "iopub.status.idle": "2022-11-13T15:49:22.612928Z",
          "shell.execute_reply": "2022-11-13T15:49:22.612457Z",
          "shell.execute_reply.started": "2022-11-13T15:49:22.586909Z"
        },
        "id": "6bdc2737-cc43-4898-9a9a-e125d494fc29",
        "tags": []
      },
      "outputs": [],
      "source": [
        "learn.metrics = F1ScoreMulti(thresh = 0.9)"
      ],
      "id": "6bdc2737-cc43-4898-9a9a-e125d494fc29"
    },
    {
      "cell_type": "code",
      "execution_count": null,
      "metadata": {
        "colab": {
          "base_uri": "https://localhost:8080/",
          "height": 34
        },
        "execution": {
          "iopub.execute_input": "2022-11-13T15:49:22.613619Z",
          "iopub.status.busy": "2022-11-13T15:49:22.613452Z",
          "iopub.status.idle": "2022-11-13T15:51:04.465447Z",
          "shell.execute_reply": "2022-11-13T15:51:04.465038Z",
          "shell.execute_reply.started": "2022-11-13T15:49:22.613606Z"
        },
        "id": "d02452a1-464d-4ee5-a665-93272e3212a2",
        "outputId": "edca962c-71ab-4369-99e9-c9d49e9c0c1c",
        "tags": []
      },
      "outputs": [
        {
          "output_type": "display_data",
          "data": {
            "text/plain": [
              "<IPython.core.display.HTML object>"
            ],
            "text/html": [
              "\n",
              "<style>\n",
              "    /* Turns off some styling */\n",
              "    progress {\n",
              "        /* gets rid of default border in Firefox and Opera. */\n",
              "        border: none;\n",
              "        /* Needs to be in here for Safari polyfill so background images work as expected. */\n",
              "        background-size: auto;\n",
              "    }\n",
              "    progress:not([value]), progress:not([value])::-webkit-progress-bar {\n",
              "        background: repeating-linear-gradient(45deg, #7e7e7e, #7e7e7e 10px, #5c5c5c 10px, #5c5c5c 20px);\n",
              "    }\n",
              "    .progress-bar-interrupted, .progress-bar-interrupted::-webkit-progress-bar {\n",
              "        background: #F44336;\n",
              "    }\n",
              "</style>\n"
            ]
          },
          "metadata": {}
        },
        {
          "output_type": "display_data",
          "data": {
            "text/plain": [
              "<IPython.core.display.HTML object>"
            ],
            "text/html": []
          },
          "metadata": {}
        },
        {
          "output_type": "execute_result",
          "data": {
            "text/plain": [
              "(#2) [0.11862465739250183,0.717659949802655]"
            ]
          },
          "metadata": {},
          "execution_count": 42
        }
      ],
      "source": [
        "learn.validate()"
      ],
      "id": "d02452a1-464d-4ee5-a665-93272e3212a2"
    },
    {
      "cell_type": "code",
      "execution_count": null,
      "metadata": {
        "execution": {
          "iopub.execute_input": "2022-11-13T15:51:04.466620Z",
          "iopub.status.busy": "2022-11-13T15:51:04.466446Z",
          "iopub.status.idle": "2022-11-13T15:52:46.235150Z",
          "shell.execute_reply": "2022-11-13T15:52:46.234720Z",
          "shell.execute_reply.started": "2022-11-13T15:51:04.466606Z"
        },
        "id": "4e776ccc-f658-4c63-aefa-ed5141c2af6c",
        "outputId": "23b60c35-d972-45e3-9ff9-94a65572f816",
        "tags": [],
        "colab": {
          "base_uri": "https://localhost:8080/",
          "height": 17
        }
      },
      "outputs": [
        {
          "output_type": "display_data",
          "data": {
            "text/plain": [
              "<IPython.core.display.HTML object>"
            ],
            "text/html": [
              "\n",
              "<style>\n",
              "    /* Turns off some styling */\n",
              "    progress {\n",
              "        /* gets rid of default border in Firefox and Opera. */\n",
              "        border: none;\n",
              "        /* Needs to be in here for Safari polyfill so background images work as expected. */\n",
              "        background-size: auto;\n",
              "    }\n",
              "    progress:not([value]), progress:not([value])::-webkit-progress-bar {\n",
              "        background: repeating-linear-gradient(45deg, #7e7e7e, #7e7e7e 10px, #5c5c5c 10px, #5c5c5c 20px);\n",
              "    }\n",
              "    .progress-bar-interrupted, .progress-bar-interrupted::-webkit-progress-bar {\n",
              "        background: #F44336;\n",
              "    }\n",
              "</style>\n"
            ]
          },
          "metadata": {}
        },
        {
          "output_type": "display_data",
          "data": {
            "text/plain": [
              "<IPython.core.display.HTML object>"
            ],
            "text/html": []
          },
          "metadata": {}
        }
      ],
      "source": [
        "preds, targs = learn.get_preds()"
      ],
      "id": "4e776ccc-f658-4c63-aefa-ed5141c2af6c"
    },
    {
      "cell_type": "code",
      "execution_count": null,
      "metadata": {
        "execution": {
          "iopub.execute_input": "2022-11-13T15:52:46.235934Z",
          "iopub.status.busy": "2022-11-13T15:52:46.235741Z",
          "iopub.status.idle": "2022-11-13T15:52:46.263839Z",
          "shell.execute_reply": "2022-11-13T15:52:46.263462Z",
          "shell.execute_reply.started": "2022-11-13T15:52:46.235918Z"
        },
        "id": "4d3ff5a4-57bd-4659-8ae5-0d3ee0be87dd",
        "outputId": "654f4e31-e303-4aad-d036-09e659d0aa9f",
        "tags": [],
        "colab": {
          "base_uri": "https://localhost:8080/"
        }
      },
      "outputs": [
        {
          "output_type": "execute_result",
          "data": {
            "text/plain": [
              "(torch.Size([2608, 6]), torch.Size([2608, 6]))"
            ]
          },
          "metadata": {},
          "execution_count": 44
        }
      ],
      "source": [
        "preds.shape, targs.shape"
      ],
      "id": "4d3ff5a4-57bd-4659-8ae5-0d3ee0be87dd"
    },
    {
      "cell_type": "code",
      "execution_count": null,
      "metadata": {
        "execution": {
          "iopub.execute_input": "2022-11-13T15:52:46.264478Z",
          "iopub.status.busy": "2022-11-13T15:52:46.264310Z",
          "iopub.status.idle": "2022-11-13T15:52:46.291514Z",
          "shell.execute_reply": "2022-11-13T15:52:46.290940Z",
          "shell.execute_reply.started": "2022-11-13T15:52:46.264465Z"
        },
        "id": "e63a8bb8-19f9-44ce-84d4-a1a514bfd38c",
        "tags": []
      },
      "outputs": [],
      "source": [
        "f1score = F1ScoreMulti(thresh = None, sigmoid=False)"
      ],
      "id": "e63a8bb8-19f9-44ce-84d4-a1a514bfd38c"
    },
    {
      "cell_type": "code",
      "execution_count": null,
      "metadata": {
        "execution": {
          "iopub.execute_input": "2022-11-13T15:52:46.292663Z",
          "iopub.status.busy": "2022-11-13T15:52:46.292271Z",
          "iopub.status.idle": "2022-11-13T15:52:46.328377Z",
          "shell.execute_reply": "2022-11-13T15:52:46.327858Z",
          "shell.execute_reply.started": "2022-11-13T15:52:46.292644Z"
        },
        "id": "7f7c9fcc-e6d3-427b-9049-ee2349033f3e",
        "tags": []
      },
      "outputs": [],
      "source": [
        "idxs = (preds>0.5) * 1"
      ],
      "id": "7f7c9fcc-e6d3-427b-9049-ee2349033f3e"
    },
    {
      "cell_type": "code",
      "execution_count": null,
      "metadata": {
        "execution": {
          "iopub.execute_input": "2022-11-13T15:52:46.329605Z",
          "iopub.status.busy": "2022-11-13T15:52:46.329132Z",
          "iopub.status.idle": "2022-11-13T15:52:46.366665Z",
          "shell.execute_reply": "2022-11-13T15:52:46.366278Z",
          "shell.execute_reply.started": "2022-11-13T15:52:46.329583Z"
        },
        "id": "6a069995-994e-427a-8f40-c7e25e1a1389",
        "outputId": "ecd2ef95-f5b0-4794-b0d7-2c0df785b6d7",
        "tags": [],
        "colab": {
          "base_uri": "https://localhost:8080/"
        }
      },
      "outputs": [
        {
          "output_type": "execute_result",
          "data": {
            "text/plain": [
              "0.852615431202388"
            ]
          },
          "metadata": {},
          "execution_count": 47
        }
      ],
      "source": [
        "f1score(idxs, targs)"
      ],
      "id": "6a069995-994e-427a-8f40-c7e25e1a1389"
    },
    {
      "cell_type": "code",
      "execution_count": null,
      "metadata": {
        "execution": {
          "iopub.execute_input": "2022-11-13T15:52:46.367725Z",
          "iopub.status.busy": "2022-11-13T15:52:46.367339Z",
          "iopub.status.idle": "2022-11-13T15:52:46.402962Z",
          "shell.execute_reply": "2022-11-13T15:52:46.402504Z",
          "shell.execute_reply.started": "2022-11-13T15:52:46.367709Z"
        },
        "id": "f30c581c-741c-4b9e-a701-8728d2a45fd4",
        "tags": []
      },
      "outputs": [],
      "source": [
        "xs = torch.linspace(0.05, 0.95, 29)"
      ],
      "id": "f30c581c-741c-4b9e-a701-8728d2a45fd4"
    },
    {
      "cell_type": "code",
      "execution_count": null,
      "metadata": {
        "execution": {
          "iopub.execute_input": "2022-11-13T15:52:46.404938Z",
          "iopub.status.busy": "2022-11-13T15:52:46.404612Z",
          "iopub.status.idle": "2022-11-13T15:52:46.528953Z",
          "shell.execute_reply": "2022-11-13T15:52:46.528384Z",
          "shell.execute_reply.started": "2022-11-13T15:52:46.404919Z"
        },
        "id": "39bc35f3-b5b7-4a6a-95cd-2a6ab6a2d6e6",
        "tags": []
      },
      "outputs": [],
      "source": [
        "f1scores = [f1score((preds>i) * 1, targs) for i in xs]"
      ],
      "id": "39bc35f3-b5b7-4a6a-95cd-2a6ab6a2d6e6"
    },
    {
      "cell_type": "code",
      "execution_count": null,
      "metadata": {
        "execution": {
          "iopub.execute_input": "2022-11-13T15:52:46.529558Z",
          "iopub.status.busy": "2022-11-13T15:52:46.529427Z",
          "iopub.status.idle": "2022-11-13T15:52:46.610369Z",
          "shell.execute_reply": "2022-11-13T15:52:46.609983Z",
          "shell.execute_reply.started": "2022-11-13T15:52:46.529546Z"
        },
        "id": "577106c1-d716-42bd-8d40-b4631e294286",
        "outputId": "d6511cbf-3ecf-4b64-d460-96698c752297",
        "tags": [],
        "colab": {
          "base_uri": "https://localhost:8080/",
          "height": 447
        }
      },
      "outputs": [
        {
          "output_type": "execute_result",
          "data": {
            "text/plain": [
              "[<matplotlib.lines.Line2D at 0x7d4c0edf7df0>]"
            ]
          },
          "metadata": {},
          "execution_count": 50
        },
        {
          "output_type": "display_data",
          "data": {
            "text/plain": [
              "<Figure size 640x480 with 1 Axes>"
            ],
            "image/png": "[encoded data removed]"
          },
          "metadata": {}
        }
      ],
      "source": [
        "plt.plot(xs, f1scores)"
      ],
      "id": "577106c1-d716-42bd-8d40-b4631e294286"
    },
    {
      "cell_type": "code",
      "execution_count": null,
      "metadata": {
        "execution": {
          "iopub.execute_input": "2022-11-13T15:52:46.611169Z",
          "iopub.status.busy": "2022-11-13T15:52:46.610918Z",
          "iopub.status.idle": "2022-11-13T15:52:46.634694Z",
          "shell.execute_reply": "2022-11-13T15:52:46.634237Z",
          "shell.execute_reply.started": "2022-11-13T15:52:46.611156Z"
        },
        "id": "2ef58a6c-11ff-4294-90fa-ea3d1a77fdbc",
        "outputId": "131892a4-d0f1-4497-b311-27aab3e2c3aa",
        "tags": [],
        "colab": {
          "base_uri": "https://localhost:8080/"
        }
      },
      "outputs": [
        {
          "output_type": "execute_result",
          "data": {
            "text/plain": [
              "tensor(9)"
            ]
          },
          "metadata": {},
          "execution_count": 51
        }
      ],
      "source": [
        "torch.argmax(torch.tensor(f1scores))"
      ],
      "id": "2ef58a6c-11ff-4294-90fa-ea3d1a77fdbc"
    },
    {
      "cell_type": "code",
      "execution_count": null,
      "metadata": {
        "execution": {
          "iopub.execute_input": "2022-11-13T15:52:46.635502Z",
          "iopub.status.busy": "2022-11-13T15:52:46.635250Z",
          "iopub.status.idle": "2022-11-13T15:52:46.659527Z",
          "shell.execute_reply": "2022-11-13T15:52:46.659106Z",
          "shell.execute_reply.started": "2022-11-13T15:52:46.635488Z"
        },
        "id": "cd7f493d-4648-40d5-8cf9-82d0016205e6",
        "outputId": "e8d84a91-3041-4423-d608-473befe6db78",
        "tags": [],
        "colab": {
          "base_uri": "https://localhost:8080/"
        }
      },
      "outputs": [
        {
          "output_type": "execute_result",
          "data": {
            "text/plain": [
              "tensor(0.3393)"
            ]
          },
          "metadata": {},
          "execution_count": 52
        }
      ],
      "source": [
        "xs[9]"
      ],
      "id": "cd7f493d-4648-40d5-8cf9-82d0016205e6"
    },
    {
      "cell_type": "code",
      "execution_count": null,
      "metadata": {
        "execution": {
          "iopub.execute_input": "2022-11-13T15:52:46.660125Z",
          "iopub.status.busy": "2022-11-13T15:52:46.659998Z",
          "iopub.status.idle": "2022-11-13T15:52:46.683561Z",
          "shell.execute_reply": "2022-11-13T15:52:46.683160Z",
          "shell.execute_reply.started": "2022-11-13T15:52:46.660112Z"
        },
        "id": "804b0529-cd16-4a1c-abeb-17fd10536513",
        "outputId": "410b891e-a28f-4aa3-a449-64249f4f11d5",
        "tags": [],
        "colab": {
          "base_uri": "https://localhost:8080/"
        }
      },
      "outputs": [
        {
          "output_type": "execute_result",
          "data": {
            "text/plain": [
              "0.8544487820571924"
            ]
          },
          "metadata": {},
          "execution_count": 53
        }
      ],
      "source": [
        "f1scores[9]"
      ],
      "id": "804b0529-cd16-4a1c-abeb-17fd10536513"
    },
    {
      "cell_type": "markdown",
      "metadata": {
        "id": "1db00331-07cf-4add-a468-2431b0e4e556"
      },
      "source": [
        "# <font color ='pickle'>Test Predictions"
      ],
      "id": "1db00331-07cf-4add-a468-2431b0e4e556"
    },
    {
      "cell_type": "code",
      "execution_count": null,
      "metadata": {
        "execution": {
          "iopub.execute_input": "2022-11-13T15:53:02.653324Z",
          "iopub.status.busy": "2022-11-13T15:53:02.653090Z",
          "iopub.status.idle": "2022-11-13T15:53:02.676037Z",
          "shell.execute_reply": "2022-11-13T15:53:02.675459Z",
          "shell.execute_reply.started": "2022-11-13T15:53:02.653312Z"
        },
        "id": "cdeb943e-97e7-4ae3-bad2-a0e68115aa37",
        "tags": []
      },
      "outputs": [],
      "source": [
        "test_files = get_image_files(data_folder/'test/test').sorted()"
      ],
      "id": "cdeb943e-97e7-4ae3-bad2-a0e68115aa37"
    },
    {
      "cell_type": "code",
      "source": [
        "test_files"
      ],
      "metadata": {
        "colab": {
          "base_uri": "https://localhost:8080/"
        },
        "id": "YN-an-GcOjD_",
        "outputId": "88793480-f149-48c7-8ac9-0c6361186609"
      },
      "execution_count": null,
      "outputs": [
        {
          "output_type": "execute_result",
          "data": {
            "text/plain": [
              "(#5590) [Path('/content/inclass_kaggle_data/test/test/test_image_1.jpg'),Path('/content/inclass_kaggle_data/test/test/test_image_10.jpg'),Path('/content/inclass_kaggle_data/test/test/test_image_100.jpg'),Path('/content/inclass_kaggle_data/test/test/test_image_1000.jpg'),Path('/content/inclass_kaggle_data/test/test/test_image_1001.jpg'),Path('/content/inclass_kaggle_data/test/test/test_image_1002.jpg'),Path('/content/inclass_kaggle_data/test/test/test_image_1003.jpg'),Path('/content/inclass_kaggle_data/test/test/test_image_1004.jpg'),Path('/content/inclass_kaggle_data/test/test/test_image_1005.jpg'),Path('/content/inclass_kaggle_data/test/test/test_image_1006.jpg')...]"
            ]
          },
          "metadata": {},
          "execution_count": 55
        }
      ],
      "id": "YN-an-GcOjD_"
    },
    {
      "cell_type": "code",
      "execution_count": null,
      "metadata": {
        "execution": {
          "iopub.execute_input": "2022-11-13T15:53:03.375295Z",
          "iopub.status.busy": "2022-11-13T15:53:03.375018Z",
          "iopub.status.idle": "2022-11-13T15:53:03.399246Z",
          "shell.execute_reply": "2022-11-13T15:53:03.398775Z",
          "shell.execute_reply.started": "2022-11-13T15:53:03.375281Z"
        },
        "id": "1fc9b69c-534f-4368-9188-ee933dbec8b7",
        "tags": []
      },
      "outputs": [],
      "source": [
        "test_dl = learn.dls.test_dl(test_files)"
      ],
      "id": "1fc9b69c-534f-4368-9188-ee933dbec8b7"
    },
    {
      "cell_type": "code",
      "execution_count": null,
      "metadata": {
        "execution": {
          "iopub.execute_input": "2022-11-13T15:53:04.051727Z",
          "iopub.status.busy": "2022-11-13T15:53:04.051552Z",
          "iopub.status.idle": "2022-11-13T15:53:04.789884Z",
          "shell.execute_reply": "2022-11-13T15:53:04.789466Z",
          "shell.execute_reply.started": "2022-11-13T15:53:04.051714Z"
        },
        "id": "89791674-b336-4c52-861c-6f03cae6cdca",
        "outputId": "d105678a-d75d-42bf-a52b-a284d17f8e0f",
        "tags": [],
        "colab": {
          "base_uri": "https://localhost:8080/",
          "height": 242
        }
      },
      "outputs": [
        {
          "output_type": "display_data",
          "data": {
            "text/plain": [
              "<Figure size 900x300 with 3 Axes>"
            ],
            "image/png": "[encoded data removed]"
          },
          "metadata": {}
        }
      ],
      "source": [
        "test_dl.show_batch(max_n=3)"
      ],
      "id": "89791674-b336-4c52-861c-6f03cae6cdca"
    },
    {
      "cell_type": "code",
      "execution_count": null,
      "metadata": {
        "execution": {
          "iopub.execute_input": "2022-11-13T15:53:04.790957Z",
          "iopub.status.busy": "2022-11-13T15:53:04.790587Z",
          "iopub.status.idle": "2022-11-13T15:53:15.630927Z",
          "shell.execute_reply": "2022-11-13T15:53:15.630493Z",
          "shell.execute_reply.started": "2022-11-13T15:53:04.790936Z"
        },
        "id": "7293d4fc-e59a-45c5-961f-719c9e240bb3",
        "outputId": "d69c039e-e6aa-4602-e7ac-89fcf7a12159",
        "tags": [],
        "colab": {
          "base_uri": "https://localhost:8080/",
          "height": 37
        }
      },
      "outputs": [
        {
          "output_type": "display_data",
          "data": {
            "text/plain": [
              "<IPython.core.display.HTML object>"
            ],
            "text/html": [
              "\n",
              "<style>\n",
              "    /* Turns off some styling */\n",
              "    progress {\n",
              "        /* gets rid of default border in Firefox and Opera. */\n",
              "        border: none;\n",
              "        /* Needs to be in here for Safari polyfill so background images work as expected. */\n",
              "        background-size: auto;\n",
              "    }\n",
              "    progress:not([value]), progress:not([value])::-webkit-progress-bar {\n",
              "        background: repeating-linear-gradient(45deg, #7e7e7e, #7e7e7e 10px, #5c5c5c 10px, #5c5c5c 20px);\n",
              "    }\n",
              "    .progress-bar-interrupted, .progress-bar-interrupted::-webkit-progress-bar {\n",
              "        background: #F44336;\n",
              "    }\n",
              "</style>\n"
            ]
          },
          "metadata": {}
        },
        {
          "output_type": "display_data",
          "data": {
            "text/plain": [
              "<IPython.core.display.HTML object>"
            ],
            "text/html": [
              "\n",
              "    <div>\n",
              "      <progress value='0' class='' max='3' style='width:300px; height:20px; vertical-align: middle;'></progress>\n",
              "      \n",
              "    </div>\n",
              "    \n"
            ]
          },
          "metadata": {}
        },
        {
          "output_type": "display_data",
          "data": {
            "text/plain": [
              "<IPython.core.display.HTML object>"
            ],
            "text/html": [
              "\n",
              "<style>\n",
              "    /* Turns off some styling */\n",
              "    progress {\n",
              "        /* gets rid of default border in Firefox and Opera. */\n",
              "        border: none;\n",
              "        /* Needs to be in here for Safari polyfill so background images work as expected. */\n",
              "        background-size: auto;\n",
              "    }\n",
              "    progress:not([value]), progress:not([value])::-webkit-progress-bar {\n",
              "        background: repeating-linear-gradient(45deg, #7e7e7e, #7e7e7e 10px, #5c5c5c 10px, #5c5c5c 20px);\n",
              "    }\n",
              "    .progress-bar-interrupted, .progress-bar-interrupted::-webkit-progress-bar {\n",
              "        background: #F44336;\n",
              "    }\n",
              "</style>\n"
            ]
          },
          "metadata": {}
        },
        {
          "output_type": "display_data",
          "data": {
            "text/plain": [
              "<IPython.core.display.HTML object>"
            ],
            "text/html": []
          },
          "metadata": {}
        }
      ],
      "source": [
        "preds, _ = learn.tta(dl = test_dl)"
      ],
      "id": "7293d4fc-e59a-45c5-961f-719c9e240bb3"
    },
    {
      "cell_type": "code",
      "execution_count": null,
      "metadata": {
        "execution": {
          "iopub.execute_input": "2022-11-13T15:53:15.632030Z",
          "iopub.status.busy": "2022-11-13T15:53:15.631839Z",
          "iopub.status.idle": "2022-11-13T15:53:15.660293Z",
          "shell.execute_reply": "2022-11-13T15:53:15.659758Z",
          "shell.execute_reply.started": "2022-11-13T15:53:15.632016Z"
        },
        "id": "c10c747e-d41b-424c-9d90-2e7697957973",
        "outputId": "5210f959-af63-4da7-924c-8114f33dd4a2",
        "tags": [],
        "colab": {
          "base_uri": "https://localhost:8080/"
        }
      },
      "outputs": [
        {
          "output_type": "execute_result",
          "data": {
            "text/plain": [
              "tensor([[8.0797e-04, 8.9803e-04, 9.6855e-01, 2.7000e-03, 9.7359e-05, 2.6052e-02],\n",
              "        [7.9695e-01, 4.2143e-01, 7.1474e-04, 1.0320e-02, 3.7826e-03, 1.9763e-01],\n",
              "        [1.7792e-01, 8.4083e-01, 5.3235e-04, 1.3504e-01, 5.1045e-03, 2.3739e-02],\n",
              "        ...,\n",
              "        [4.0294e-04, 1.9331e-04, 9.9972e-01, 2.5354e-04, 1.8511e-04, 2.4831e-04],\n",
              "        [3.3764e-01, 8.0718e-01, 8.5627e-04, 1.5611e-03, 3.5864e-03, 1.6357e-01],\n",
              "        [8.7174e-03, 4.1063e-03, 4.0483e-03, 8.7713e-01, 2.0048e-04, 8.2385e-02]])"
            ]
          },
          "metadata": {},
          "execution_count": 59
        }
      ],
      "source": [
        "preds"
      ],
      "id": "c10c747e-d41b-424c-9d90-2e7697957973"
    },
    {
      "cell_type": "code",
      "execution_count": null,
      "metadata": {
        "execution": {
          "iopub.execute_input": "2022-11-13T15:53:44.919782Z",
          "iopub.status.busy": "2022-11-13T15:53:44.919570Z",
          "iopub.status.idle": "2022-11-13T15:53:44.942085Z",
          "shell.execute_reply": "2022-11-13T15:53:44.941733Z",
          "shell.execute_reply.started": "2022-11-13T15:53:44.919755Z"
        },
        "id": "01566f2e-c5a1-40b9-ac7c-e190ea1ea0bb",
        "tags": []
      },
      "outputs": [],
      "source": [
        "pred_decoded = [torch.where(pred>0.34)[0] for pred in preds]"
      ],
      "id": "01566f2e-c5a1-40b9-ac7c-e190ea1ea0bb"
    },
    {
      "cell_type": "code",
      "execution_count": null,
      "metadata": {
        "execution": {
          "iopub.execute_input": "2022-11-13T15:53:46.390523Z",
          "iopub.status.busy": "2022-11-13T15:53:46.390311Z",
          "iopub.status.idle": "2022-11-13T15:53:46.413725Z",
          "shell.execute_reply": "2022-11-13T15:53:46.413243Z",
          "shell.execute_reply.started": "2022-11-13T15:53:46.390509Z"
        },
        "id": "472efa23-989f-4c58-aad6-916f44c376ae",
        "outputId": "3f8e871c-a2f6-4509-968f-3196c06d1cad",
        "tags": [],
        "colab": {
          "base_uri": "https://localhost:8080/"
        }
      },
      "outputs": [
        {
          "output_type": "execute_result",
          "data": {
            "text/plain": [
              "[tensor([2]),\n",
              " tensor([0, 1]),\n",
              " tensor([1]),\n",
              " tensor([2]),\n",
              " tensor([1]),\n",
              " tensor([1]),\n",
              " tensor([1]),\n",
              " tensor([0]),\n",
              " tensor([0, 5]),\n",
              " tensor([5]),\n",
              " tensor([2]),\n",
              " tensor([5]),\n",
              " tensor([2]),\n",
              " tensor([1]),\n",
              " tensor([5]),\n",
              " tensor([5]),\n",
              " tensor([0, 4]),\n",
              " tensor([2]),\n",
              " tensor([2, 5]),\n",
              " tensor([5])]"
            ]
          },
          "metadata": {},
          "execution_count": 61
        }
      ],
      "source": [
        "pred_decoded[0:20]"
      ],
      "id": "472efa23-989f-4c58-aad6-916f44c376ae"
    },
    {
      "cell_type": "code",
      "execution_count": null,
      "metadata": {
        "execution": {
          "iopub.execute_input": "2022-11-13T15:55:15.692650Z",
          "iopub.status.busy": "2022-11-13T15:55:15.692467Z",
          "iopub.status.idle": "2022-11-13T15:55:15.716025Z",
          "shell.execute_reply": "2022-11-13T15:55:15.715530Z",
          "shell.execute_reply.started": "2022-11-13T15:55:15.692635Z"
        },
        "id": "b58e7db2-e000-4121-998b-29df9c7a28cd"
      },
      "outputs": [],
      "source": [
        "vocab = learn.dls.vocab"
      ],
      "id": "b58e7db2-e000-4121-998b-29df9c7a28cd"
    },
    {
      "cell_type": "code",
      "execution_count": null,
      "metadata": {
        "execution": {
          "iopub.execute_input": "2022-11-13T15:55:18.738876Z",
          "iopub.status.busy": "2022-11-13T15:55:18.738670Z",
          "iopub.status.idle": "2022-11-13T15:55:18.762978Z",
          "shell.execute_reply": "2022-11-13T15:55:18.762476Z",
          "shell.execute_reply.started": "2022-11-13T15:55:18.738861Z"
        },
        "id": "a2c1b30f-489f-4899-bd0f-0949617f79b7",
        "tags": []
      },
      "outputs": [],
      "source": [
        "pred_labels = [vocab[pred] for pred in pred_decoded[0:20]]"
      ],
      "id": "a2c1b30f-489f-4899-bd0f-0949617f79b7"
    },
    {
      "cell_type": "code",
      "execution_count": null,
      "metadata": {
        "execution": {
          "iopub.execute_input": "2022-11-13T15:55:21.746121Z",
          "iopub.status.busy": "2022-11-13T15:55:21.745905Z",
          "iopub.status.idle": "2022-11-13T15:55:21.769019Z",
          "shell.execute_reply": "2022-11-13T15:55:21.768564Z",
          "shell.execute_reply.started": "2022-11-13T15:55:21.746106Z"
        },
        "id": "3ab63616-68b9-484e-8201-d1233cafc3c5",
        "outputId": "c0e4f57e-59b2-4d76-b636-e7ae576d93e4",
        "tags": [],
        "colab": {
          "base_uri": "https://localhost:8080/"
        }
      },
      "outputs": [
        {
          "output_type": "execute_result",
          "data": {
            "text/plain": [
              "[(#1) ['healthy'],\n",
              " (#2) ['complex','frog_eye_leaf_spot'],\n",
              " (#1) ['frog_eye_leaf_spot'],\n",
              " (#1) ['healthy'],\n",
              " (#1) ['frog_eye_leaf_spot'],\n",
              " (#1) ['frog_eye_leaf_spot'],\n",
              " (#1) ['frog_eye_leaf_spot'],\n",
              " (#1) ['complex'],\n",
              " (#2) ['complex','scab'],\n",
              " (#1) ['scab'],\n",
              " (#1) ['healthy'],\n",
              " (#1) ['scab'],\n",
              " (#1) ['healthy'],\n",
              " (#1) ['frog_eye_leaf_spot'],\n",
              " (#1) ['scab'],\n",
              " (#1) ['scab'],\n",
              " (#2) ['complex','rust'],\n",
              " (#1) ['healthy'],\n",
              " (#2) ['healthy','scab'],\n",
              " (#1) ['scab']]"
            ]
          },
          "metadata": {},
          "execution_count": 64
        }
      ],
      "source": [
        "pred_labels"
      ],
      "id": "3ab63616-68b9-484e-8201-d1233cafc3c5"
    },
    {
      "cell_type": "code",
      "execution_count": null,
      "metadata": {
        "execution": {
          "iopub.execute_input": "2022-11-13T15:55:26.863700Z",
          "iopub.status.busy": "2022-11-13T15:55:26.863489Z",
          "iopub.status.idle": "2022-11-13T15:55:26.886802Z",
          "shell.execute_reply": "2022-11-13T15:55:26.886337Z",
          "shell.execute_reply.started": "2022-11-13T15:55:26.863686Z"
        },
        "id": "8f09b701-e0d0-494a-869f-74f07d05e593",
        "outputId": "3f1b644c-35b3-4203-8b12-97efd76cb230",
        "tags": [],
        "colab": {
          "base_uri": "https://localhost:8080/"
        }
      },
      "outputs": [
        {
          "output_type": "execute_result",
          "data": {
            "text/plain": [
              "['healthy',\n",
              " 'complex frog_eye_leaf_spot',\n",
              " 'frog_eye_leaf_spot',\n",
              " 'healthy',\n",
              " 'frog_eye_leaf_spot',\n",
              " 'frog_eye_leaf_spot',\n",
              " 'frog_eye_leaf_spot',\n",
              " 'complex',\n",
              " 'complex scab',\n",
              " 'scab',\n",
              " 'healthy',\n",
              " 'scab',\n",
              " 'healthy',\n",
              " 'frog_eye_leaf_spot',\n",
              " 'scab',\n",
              " 'scab',\n",
              " 'complex rust',\n",
              " 'healthy',\n",
              " 'healthy scab',\n",
              " 'scab']"
            ]
          },
          "metadata": {},
          "execution_count": 65
        }
      ],
      "source": [
        "[\" \".join(pred)for pred in pred_labels]"
      ],
      "id": "8f09b701-e0d0-494a-869f-74f07d05e593"
    },
    {
      "cell_type": "code",
      "execution_count": null,
      "metadata": {
        "execution": {
          "iopub.execute_input": "2022-11-13T15:55:57.339688Z",
          "iopub.status.busy": "2022-11-13T15:55:57.339280Z",
          "iopub.status.idle": "2022-11-13T15:55:57.362892Z",
          "shell.execute_reply": "2022-11-13T15:55:57.362314Z",
          "shell.execute_reply.started": "2022-11-13T15:55:57.339673Z"
        },
        "id": "e098d700-8c74-4e81-b0bc-1f629adb27c4",
        "tags": []
      },
      "outputs": [],
      "source": [
        "pred_labels = [' '.join(vocab[torch.where(pred>0.34)[0]]) for pred in preds]"
      ],
      "id": "e098d700-8c74-4e81-b0bc-1f629adb27c4"
    },
    {
      "cell_type": "code",
      "execution_count": null,
      "metadata": {
        "execution": {
          "iopub.execute_input": "2022-11-13T15:55:58.109028Z",
          "iopub.status.busy": "2022-11-13T15:55:58.108852Z",
          "iopub.status.idle": "2022-11-13T15:55:58.132144Z",
          "shell.execute_reply": "2022-11-13T15:55:58.131741Z",
          "shell.execute_reply.started": "2022-11-13T15:55:58.109013Z"
        },
        "id": "b5d470e5-2e6d-4411-a057-7b3d34caa882",
        "outputId": "c64d92e5-8789-4fde-e7dc-12d129570112",
        "tags": [],
        "colab": {
          "base_uri": "https://localhost:8080/"
        }
      },
      "outputs": [
        {
          "output_type": "execute_result",
          "data": {
            "text/plain": [
              "['healthy',\n",
              " 'complex frog_eye_leaf_spot',\n",
              " 'frog_eye_leaf_spot',\n",
              " 'healthy',\n",
              " 'frog_eye_leaf_spot',\n",
              " 'frog_eye_leaf_spot',\n",
              " 'frog_eye_leaf_spot',\n",
              " 'complex',\n",
              " 'complex scab',\n",
              " 'scab',\n",
              " 'healthy',\n",
              " 'scab',\n",
              " 'healthy',\n",
              " 'frog_eye_leaf_spot',\n",
              " 'scab',\n",
              " 'scab',\n",
              " 'complex rust',\n",
              " 'healthy',\n",
              " 'healthy scab',\n",
              " 'scab']"
            ]
          },
          "metadata": {},
          "execution_count": 67
        }
      ],
      "source": [
        "pred_labels[0:20]"
      ],
      "id": "b5d470e5-2e6d-4411-a057-7b3d34caa882"
    },
    {
      "cell_type": "markdown",
      "id": "eed00487-3894-4a18-b3f9-493e4d1666c6",
      "metadata": {
        "execution": {
          "iopub.execute_input": "2022-11-11T22:20:36.816599Z",
          "iopub.status.busy": "2022-11-11T22:20:36.816357Z",
          "iopub.status.idle": "2022-11-11T22:20:36.818642Z",
          "shell.execute_reply": "2022-11-11T22:20:36.818336Z",
          "shell.execute_reply.started": "2022-11-11T22:20:36.816572Z"
        },
        "id": "eed00487-3894-4a18-b3f9-493e4d1666c6",
        "tags": []
      },
      "source": [
        "# <font color = 'pickle'> Ensemble Model"
      ]
    },
    {
      "cell_type": "code",
      "source": [
        "from fastcore.parallel import *"
      ],
      "metadata": {
        "id": "-tRiaWTN26ra"
      },
      "id": "-tRiaWTN26ra",
      "execution_count": 34,
      "outputs": []
    },
    {
      "cell_type": "code",
      "source": [
        "loss_func = nn.BCEWithLogitsLoss()\n",
        "test_files = get_image_files(data_folder/'test/test').sorted()"
      ],
      "metadata": {
        "id": "N1fuGeN1GlT8"
      },
      "id": "N1fuGeN1GlT8",
      "execution_count": 35,
      "outputs": []
    },
    {
      "cell_type": "code",
      "source": [
        "def train(arch, size, item=Resize(480, method='squish'), accum=1, finetune=True, epochs=12, train_path = data_folder/'train_images'):\n",
        "    dblock = DataBlock(blocks= (ImageBlock, MultiCategoryBlock),\n",
        "                   get_x= get_x,\n",
        "                   get_y = get_y,\n",
        "                   splitter = RandomSplitter(seed = 42, valid_pct = 0.2),\n",
        "                   item_tfms= item,\n",
        "                   batch_tfms= aug_transforms(size=size, min_scale = 0.75))\n",
        "\n",
        "    dls = dblock.dataloaders(df, bs = 32, num_workers =8)\n",
        "    cbs = GradientAccumulation(64) if accum else []\n",
        "    learn = vision_learner(dls, arch, metrics=[F1ScoreMulti(thresh = 0.39)], cbs=cbs, path = model_folder).to_fp16()\n",
        "    if finetune:\n",
        "        learn.fine_tune(epochs, 0.03)\n",
        "        test_dl = learn.dls.test_dl(test_files)\n",
        "        return learn.tta(dl = test_dl)\n",
        "    else:\n",
        "        learn.unfreeze()\n",
        "        learn.fit_one_cycle(epochs, 0.01)"
      ],
      "metadata": {
        "id": "XE13A7S7pVsp"
      },
      "id": "XE13A7S7pVsp",
      "execution_count": 42,
      "outputs": []
    },
    {
      "cell_type": "code",
      "source": [
        "import gc\n",
        "def report_gpu():\n",
        "    print(torch.cuda.list_gpu_processes())\n",
        "    gc.collect()\n",
        "    torch.cuda.empty_cache()"
      ],
      "metadata": {
        "id": "nRpBGt0_ppBl"
      },
      "id": "nRpBGt0_ppBl",
      "execution_count": 43,
      "outputs": []
    },
    {
      "cell_type": "code",
      "source": [
        "def free_memory():\n",
        "    \"\"\"\n",
        "    Attempts to free up memory by deleting variables and running Python's garbage collector.\n",
        "    \"\"\"\n",
        "    gc.collect()\n",
        "    for device_id in range(torch.cuda.device_count()):\n",
        "        torch.cuda.set_device(device_id)\n",
        "        torch.cuda.empty_cache()\n",
        "    gc.collect()"
      ],
      "metadata": {
        "id": "xo-rai9lppF6"
      },
      "id": "xo-rai9lppF6",
      "execution_count": 44,
      "outputs": []
    },
    {
      "cell_type": "code",
      "source": [
        "res = 640,480\n",
        "models = {\n",
        "    'convnext_large_in22k': {\n",
        "        (Resize(res), (320,224)),\n",
        "    }, 'vit_large_patch16_224': {\n",
        "        (Resize(480, method='squish'), 224),\n",
        "        (Resize(res), 224),\n",
        "    }\n",
        "}"
      ],
      "metadata": {
        "id": "tnMNmcWTppKP"
      },
      "id": "tnMNmcWTppKP",
      "execution_count": 45,
      "outputs": []
    },
    {
      "cell_type": "code",
      "source": [
        "if 'google.colab' in str(get_ipython()):\n",
        "  !pip install --upgrade fastai fastcore timm==0.6.13 kaggle pynvml nbdev -qq"
      ],
      "metadata": {
        "id": "P_RZxmibuno_"
      },
      "id": "P_RZxmibuno_",
      "execution_count": 46,
      "outputs": []
    },
    {
      "cell_type": "code",
      "source": [
        "tta_res = []\n",
        "for arch,details in models.items():\n",
        "    for item,size in details:\n",
        "        print('---',arch)\n",
        "        print(size)\n",
        "        print(item.name)\n",
        "        tta_res.append(train(arch, size, item=item, accum=2, train_path=train_path))\n",
        "        gc.collect()\n",
        "        torch.cuda.empty_cache()"
      ],
      "metadata": {
        "colab": {
          "base_uri": "https://localhost:8080/",
          "height": 1000,
          "referenced_widgets": [
            "56564d4e71bc417aaa7d38e748745406",
            "f81931e136754c2ab476c1b352b559f2",
            "efb3dabc22ec4693b551da7326e5e032",
            "bc4b47b8e3ef46fa8c4396afe790aeee",
            "a28b7a8a0cb24017ac45b8b10bfb316f",
            "e884c0366ae047129ef550adb841cdaf",
            "e12597beff8a49f5a3d10f9b84fbfe40",
            "bf133cbfe5194af9bb9b0c8214ea7c9c",
            "2959eb2559e84c37a39d96766c8ae763",
            "a132c117fe7b43da87864d18fae88177",
            "6d22a203873b4fa189406ec37dbbbc16",
            "725d549e6ae24dc686a47aeb61630694",
            "881938ff76134790b135c9c7687377c0",
            "c98a601b2f64470dbe3eadf756b25bbd",
            "c9258050cc8e4765b8cd64918f4ca27e",
            "f62a879306864386921bce8e05e62553",
            "c2064561f4d54768acc7396322ce74e4",
            "c6e17835ad2346ddae78b401143ee4fd",
            "5f1f6312d3ef44738fda94ced97f6cd1",
            "c895249387124c389bd7ed2066ae54ff",
            "2dd67e5573c94b12862557723364ab03",
            "893624eb5a7e4dea847be7fb97897a65"
          ]
        },
        "id": "gYIi33Zipssv",
        "outputId": "bd79bbc1-f70a-45c2-e2fa-633251c6932c"
      },
      "id": "gYIi33Zipssv",
      "execution_count": 47,
      "outputs": [
        {
          "output_type": "stream",
          "name": "stdout",
          "text": [
            "--- convnext_large_in22k\n",
            "(320, 224)\n",
            "Resize -- {'size': (480, 640), 'method': 'crop', 'pad_mode': 'reflection', 'resamples': (<Resampling.BILINEAR: 2>, <Resampling.NEAREST: 0>), 'p': 1.0}\n"
          ]
        },
        {
          "output_type": "stream",
          "name": "stderr",
          "text": [
            "/usr/local/lib/python3.10/dist-packages/timm/models/_factory.py:117: UserWarning: Mapping deprecated model name convnext_large_in22k to current convnext_large.fb_in22k.\n"
          ]
        },
        {
          "output_type": "display_data",
          "data": {
            "text/plain": [
              "model.safetensors:   0%|          | 0.00/919M [00:00<?, ?B/s]"
            ],
            "application/vnd.jupyter.widget-view+json": {
              "version_major": 2,
              "version_minor": 0,
              "model_id": "56564d4e71bc417aaa7d38e748745406"
            }
          },
          "metadata": {}
        },
        {
          "output_type": "display_data",
          "data": {
            "text/plain": [
              "<IPython.core.display.HTML object>"
            ],
            "text/html": [
              "\n",
              "<style>\n",
              "    /* Turns off some styling */\n",
              "    progress {\n",
              "        /* gets rid of default border in Firefox and Opera. */\n",
              "        border: none;\n",
              "        /* Needs to be in here for Safari polyfill so background images work as expected. */\n",
              "        background-size: auto;\n",
              "    }\n",
              "    progress:not([value]), progress:not([value])::-webkit-progress-bar {\n",
              "        background: repeating-linear-gradient(45deg, #7e7e7e, #7e7e7e 10px, #5c5c5c 10px, #5c5c5c 20px);\n",
              "    }\n",
              "    .progress-bar-interrupted, .progress-bar-interrupted::-webkit-progress-bar {\n",
              "        background: #F44336;\n",
              "    }\n",
              "</style>\n"
            ]
          },
          "metadata": {}
        },
        {
          "output_type": "display_data",
          "data": {
            "text/plain": [
              "<IPython.core.display.HTML object>"
            ],
            "text/html": [
              "<table border=\"1\" class=\"dataframe\">\n",
              "  <thead>\n",
              "    <tr style=\"text-align: left;\">\n",
              "      <th>epoch</th>\n",
              "      <th>train_loss</th>\n",
              "      <th>valid_loss</th>\n",
              "      <th>f1_score</th>\n",
              "      <th>time</th>\n",
              "    </tr>\n",
              "  </thead>\n",
              "  <tbody>\n",
              "    <tr>\n",
              "      <td>0</td>\n",
              "      <td>0.222069</td>\n",
              "      <td>0.157236</td>\n",
              "      <td>0.753700</td>\n",
              "      <td>01:23</td>\n",
              "    </tr>\n",
              "  </tbody>\n",
              "</table>"
            ]
          },
          "metadata": {}
        },
        {
          "output_type": "display_data",
          "data": {
            "text/plain": [
              "<IPython.core.display.HTML object>"
            ],
            "text/html": [
              "\n",
              "<style>\n",
              "    /* Turns off some styling */\n",
              "    progress {\n",
              "        /* gets rid of default border in Firefox and Opera. */\n",
              "        border: none;\n",
              "        /* Needs to be in here for Safari polyfill so background images work as expected. */\n",
              "        background-size: auto;\n",
              "    }\n",
              "    progress:not([value]), progress:not([value])::-webkit-progress-bar {\n",
              "        background: repeating-linear-gradient(45deg, #7e7e7e, #7e7e7e 10px, #5c5c5c 10px, #5c5c5c 20px);\n",
              "    }\n",
              "    .progress-bar-interrupted, .progress-bar-interrupted::-webkit-progress-bar {\n",
              "        background: #F44336;\n",
              "    }\n",
              "</style>\n"
            ]
          },
          "metadata": {}
        },
        {
          "output_type": "display_data",
          "data": {
            "text/plain": [
              "<IPython.core.display.HTML object>"
            ],
            "text/html": [
              "<table border=\"1\" class=\"dataframe\">\n",
              "  <thead>\n",
              "    <tr style=\"text-align: left;\">\n",
              "      <th>epoch</th>\n",
              "      <th>train_loss</th>\n",
              "      <th>valid_loss</th>\n",
              "      <th>f1_score</th>\n",
              "      <th>time</th>\n",
              "    </tr>\n",
              "  </thead>\n",
              "  <tbody>\n",
              "    <tr>\n",
              "      <td>0</td>\n",
              "      <td>0.141941</td>\n",
              "      <td>0.102472</td>\n",
              "      <td>0.867134</td>\n",
              "      <td>01:48</td>\n",
              "    </tr>\n",
              "    <tr>\n",
              "      <td>1</td>\n",
              "      <td>0.122978</td>\n",
              "      <td>0.094206</td>\n",
              "      <td>0.890900</td>\n",
              "      <td>01:48</td>\n",
              "    </tr>\n",
              "    <tr>\n",
              "      <td>2</td>\n",
              "      <td>0.123764</td>\n",
              "      <td>0.098629</td>\n",
              "      <td>0.889360</td>\n",
              "      <td>01:48</td>\n",
              "    </tr>\n",
              "    <tr>\n",
              "      <td>3</td>\n",
              "      <td>0.115800</td>\n",
              "      <td>0.085905</td>\n",
              "      <td>0.900536</td>\n",
              "      <td>01:49</td>\n",
              "    </tr>\n",
              "    <tr>\n",
              "      <td>4</td>\n",
              "      <td>0.110967</td>\n",
              "      <td>0.094300</td>\n",
              "      <td>0.895037</td>\n",
              "      <td>01:49</td>\n",
              "    </tr>\n",
              "    <tr>\n",
              "      <td>5</td>\n",
              "      <td>0.096926</td>\n",
              "      <td>0.086573</td>\n",
              "      <td>0.901744</td>\n",
              "      <td>01:49</td>\n",
              "    </tr>\n",
              "    <tr>\n",
              "      <td>6</td>\n",
              "      <td>0.077785</td>\n",
              "      <td>0.082647</td>\n",
              "      <td>0.899800</td>\n",
              "      <td>01:48</td>\n",
              "    </tr>\n",
              "    <tr>\n",
              "      <td>7</td>\n",
              "      <td>0.059994</td>\n",
              "      <td>0.088039</td>\n",
              "      <td>0.901984</td>\n",
              "      <td>01:48</td>\n",
              "    </tr>\n",
              "    <tr>\n",
              "      <td>8</td>\n",
              "      <td>0.046411</td>\n",
              "      <td>0.088079</td>\n",
              "      <td>0.908571</td>\n",
              "      <td>01:49</td>\n",
              "    </tr>\n",
              "    <tr>\n",
              "      <td>9</td>\n",
              "      <td>0.035420</td>\n",
              "      <td>0.093609</td>\n",
              "      <td>0.915820</td>\n",
              "      <td>01:49</td>\n",
              "    </tr>\n",
              "    <tr>\n",
              "      <td>10</td>\n",
              "      <td>0.025810</td>\n",
              "      <td>0.092890</td>\n",
              "      <td>0.914742</td>\n",
              "      <td>01:49</td>\n",
              "    </tr>\n",
              "    <tr>\n",
              "      <td>11</td>\n",
              "      <td>0.024680</td>\n",
              "      <td>0.094495</td>\n",
              "      <td>0.913043</td>\n",
              "      <td>01:48</td>\n",
              "    </tr>\n",
              "  </tbody>\n",
              "</table>"
            ]
          },
          "metadata": {}
        },
        {
          "output_type": "display_data",
          "data": {
            "text/plain": [
              "<IPython.core.display.HTML object>"
            ],
            "text/html": [
              "\n",
              "<style>\n",
              "    /* Turns off some styling */\n",
              "    progress {\n",
              "        /* gets rid of default border in Firefox and Opera. */\n",
              "        border: none;\n",
              "        /* Needs to be in here for Safari polyfill so background images work as expected. */\n",
              "        background-size: auto;\n",
              "    }\n",
              "    progress:not([value]), progress:not([value])::-webkit-progress-bar {\n",
              "        background: repeating-linear-gradient(45deg, #7e7e7e, #7e7e7e 10px, #5c5c5c 10px, #5c5c5c 20px);\n",
              "    }\n",
              "    .progress-bar-interrupted, .progress-bar-interrupted::-webkit-progress-bar {\n",
              "        background: #F44336;\n",
              "    }\n",
              "</style>\n"
            ]
          },
          "metadata": {}
        },
        {
          "output_type": "display_data",
          "data": {
            "text/plain": [
              "<IPython.core.display.HTML object>"
            ],
            "text/html": [
              "\n",
              "    <div>\n",
              "      <progress value='0' class='' max='12' style='width:300px; height:20px; vertical-align: middle;'></progress>\n",
              "      \n",
              "    </div>\n",
              "    \n"
            ]
          },
          "metadata": {}
        },
        {
          "output_type": "display_data",
          "data": {
            "text/plain": [
              "<IPython.core.display.HTML object>"
            ],
            "text/html": [
              "\n",
              "<style>\n",
              "    /* Turns off some styling */\n",
              "    progress {\n",
              "        /* gets rid of default border in Firefox and Opera. */\n",
              "        border: none;\n",
              "        /* Needs to be in here for Safari polyfill so background images work as expected. */\n",
              "        background-size: auto;\n",
              "    }\n",
              "    progress:not([value]), progress:not([value])::-webkit-progress-bar {\n",
              "        background: repeating-linear-gradient(45deg, #7e7e7e, #7e7e7e 10px, #5c5c5c 10px, #5c5c5c 20px);\n",
              "    }\n",
              "    .progress-bar-interrupted, .progress-bar-interrupted::-webkit-progress-bar {\n",
              "        background: #F44336;\n",
              "    }\n",
              "</style>\n"
            ]
          },
          "metadata": {}
        },
        {
          "output_type": "display_data",
          "data": {
            "text/plain": [
              "<IPython.core.display.HTML object>"
            ],
            "text/html": []
          },
          "metadata": {}
        },
        {
          "output_type": "stream",
          "name": "stdout",
          "text": [
            "--- vit_large_patch16_224\n",
            "224\n",
            "Resize -- {'size': (480, 640), 'method': 'crop', 'pad_mode': 'reflection', 'resamples': (<Resampling.BILINEAR: 2>, <Resampling.NEAREST: 0>), 'p': 1.0}\n"
          ]
        },
        {
          "output_type": "display_data",
          "data": {
            "text/plain": [
              "model.safetensors:   0%|          | 0.00/1.22G [00:00<?, ?B/s]"
            ],
            "application/vnd.jupyter.widget-view+json": {
              "version_major": 2,
              "version_minor": 0,
              "model_id": "725d549e6ae24dc686a47aeb61630694"
            }
          },
          "metadata": {}
        },
        {
          "output_type": "display_data",
          "data": {
            "text/plain": [
              "<IPython.core.display.HTML object>"
            ],
            "text/html": [
              "\n",
              "<style>\n",
              "    /* Turns off some styling */\n",
              "    progress {\n",
              "        /* gets rid of default border in Firefox and Opera. */\n",
              "        border: none;\n",
              "        /* Needs to be in here for Safari polyfill so background images work as expected. */\n",
              "        background-size: auto;\n",
              "    }\n",
              "    progress:not([value]), progress:not([value])::-webkit-progress-bar {\n",
              "        background: repeating-linear-gradient(45deg, #7e7e7e, #7e7e7e 10px, #5c5c5c 10px, #5c5c5c 20px);\n",
              "    }\n",
              "    .progress-bar-interrupted, .progress-bar-interrupted::-webkit-progress-bar {\n",
              "        background: #F44336;\n",
              "    }\n",
              "</style>\n"
            ]
          },
          "metadata": {}
        },
        {
          "output_type": "display_data",
          "data": {
            "text/plain": [
              "<IPython.core.display.HTML object>"
            ],
            "text/html": [
              "<table border=\"1\" class=\"dataframe\">\n",
              "  <thead>\n",
              "    <tr style=\"text-align: left;\">\n",
              "      <th>epoch</th>\n",
              "      <th>train_loss</th>\n",
              "      <th>valid_loss</th>\n",
              "      <th>f1_score</th>\n",
              "      <th>time</th>\n",
              "    </tr>\n",
              "  </thead>\n",
              "  <tbody>\n",
              "    <tr>\n",
              "      <td>0</td>\n",
              "      <td>0.210054</td>\n",
              "      <td>0.124887</td>\n",
              "      <td>0.858826</td>\n",
              "      <td>01:22</td>\n",
              "    </tr>\n",
              "  </tbody>\n",
              "</table>"
            ]
          },
          "metadata": {}
        },
        {
          "output_type": "display_data",
          "data": {
            "text/plain": [
              "<IPython.core.display.HTML object>"
            ],
            "text/html": [
              "\n",
              "<style>\n",
              "    /* Turns off some styling */\n",
              "    progress {\n",
              "        /* gets rid of default border in Firefox and Opera. */\n",
              "        border: none;\n",
              "        /* Needs to be in here for Safari polyfill so background images work as expected. */\n",
              "        background-size: auto;\n",
              "    }\n",
              "    progress:not([value]), progress:not([value])::-webkit-progress-bar {\n",
              "        background: repeating-linear-gradient(45deg, #7e7e7e, #7e7e7e 10px, #5c5c5c 10px, #5c5c5c 20px);\n",
              "    }\n",
              "    .progress-bar-interrupted, .progress-bar-interrupted::-webkit-progress-bar {\n",
              "        background: #F44336;\n",
              "    }\n",
              "</style>\n"
            ]
          },
          "metadata": {}
        },
        {
          "output_type": "display_data",
          "data": {
            "text/plain": [
              "<IPython.core.display.HTML object>"
            ],
            "text/html": [
              "<table border=\"1\" class=\"dataframe\">\n",
              "  <thead>\n",
              "    <tr style=\"text-align: left;\">\n",
              "      <th>epoch</th>\n",
              "      <th>train_loss</th>\n",
              "      <th>valid_loss</th>\n",
              "      <th>f1_score</th>\n",
              "      <th>time</th>\n",
              "    </tr>\n",
              "  </thead>\n",
              "  <tbody>\n",
              "    <tr>\n",
              "      <td>0</td>\n",
              "      <td>0.137291</td>\n",
              "      <td>0.101842</td>\n",
              "      <td>0.884785</td>\n",
              "      <td>01:46</td>\n",
              "    </tr>\n",
              "    <tr>\n",
              "      <td>1</td>\n",
              "      <td>0.155032</td>\n",
              "      <td>0.157461</td>\n",
              "      <td>0.827616</td>\n",
              "      <td>01:46</td>\n",
              "    </tr>\n",
              "    <tr>\n",
              "      <td>2</td>\n",
              "      <td>0.153719</td>\n",
              "      <td>0.175835</td>\n",
              "      <td>0.760560</td>\n",
              "      <td>01:45</td>\n",
              "    </tr>\n",
              "    <tr>\n",
              "      <td>3</td>\n",
              "      <td>0.149000</td>\n",
              "      <td>0.128627</td>\n",
              "      <td>0.857820</td>\n",
              "      <td>01:45</td>\n",
              "    </tr>\n",
              "    <tr>\n",
              "      <td>4</td>\n",
              "      <td>0.132496</td>\n",
              "      <td>0.118058</td>\n",
              "      <td>0.869277</td>\n",
              "      <td>01:45</td>\n",
              "    </tr>\n",
              "    <tr>\n",
              "      <td>5</td>\n",
              "      <td>0.130820</td>\n",
              "      <td>0.104809</td>\n",
              "      <td>0.869034</td>\n",
              "      <td>01:45</td>\n",
              "    </tr>\n",
              "    <tr>\n",
              "      <td>6</td>\n",
              "      <td>0.114501</td>\n",
              "      <td>0.109513</td>\n",
              "      <td>0.869884</td>\n",
              "      <td>01:45</td>\n",
              "    </tr>\n",
              "    <tr>\n",
              "      <td>7</td>\n",
              "      <td>0.097005</td>\n",
              "      <td>0.090815</td>\n",
              "      <td>0.898184</td>\n",
              "      <td>01:45</td>\n",
              "    </tr>\n",
              "    <tr>\n",
              "      <td>8</td>\n",
              "      <td>0.077686</td>\n",
              "      <td>0.093917</td>\n",
              "      <td>0.899715</td>\n",
              "      <td>01:45</td>\n",
              "    </tr>\n",
              "    <tr>\n",
              "      <td>9</td>\n",
              "      <td>0.063032</td>\n",
              "      <td>0.096630</td>\n",
              "      <td>0.904867</td>\n",
              "      <td>01:45</td>\n",
              "    </tr>\n",
              "    <tr>\n",
              "      <td>10</td>\n",
              "      <td>0.049492</td>\n",
              "      <td>0.088760</td>\n",
              "      <td>0.910831</td>\n",
              "      <td>01:45</td>\n",
              "    </tr>\n",
              "    <tr>\n",
              "      <td>11</td>\n",
              "      <td>0.046754</td>\n",
              "      <td>0.087732</td>\n",
              "      <td>0.910302</td>\n",
              "      <td>01:45</td>\n",
              "    </tr>\n",
              "  </tbody>\n",
              "</table>"
            ]
          },
          "metadata": {}
        },
        {
          "output_type": "display_data",
          "data": {
            "text/plain": [
              "<IPython.core.display.HTML object>"
            ],
            "text/html": [
              "\n",
              "<style>\n",
              "    /* Turns off some styling */\n",
              "    progress {\n",
              "        /* gets rid of default border in Firefox and Opera. */\n",
              "        border: none;\n",
              "        /* Needs to be in here for Safari polyfill so background images work as expected. */\n",
              "        background-size: auto;\n",
              "    }\n",
              "    progress:not([value]), progress:not([value])::-webkit-progress-bar {\n",
              "        background: repeating-linear-gradient(45deg, #7e7e7e, #7e7e7e 10px, #5c5c5c 10px, #5c5c5c 20px);\n",
              "    }\n",
              "    .progress-bar-interrupted, .progress-bar-interrupted::-webkit-progress-bar {\n",
              "        background: #F44336;\n",
              "    }\n",
              "</style>\n"
            ]
          },
          "metadata": {}
        },
        {
          "output_type": "display_data",
          "data": {
            "text/plain": [
              "<IPython.core.display.HTML object>"
            ],
            "text/html": [
              "\n",
              "    <div>\n",
              "      <progress value='0' class='' max='12' style='width:300px; height:20px; vertical-align: middle;'></progress>\n",
              "      \n",
              "    </div>\n",
              "    \n"
            ]
          },
          "metadata": {}
        },
        {
          "output_type": "display_data",
          "data": {
            "text/plain": [
              "<IPython.core.display.HTML object>"
            ],
            "text/html": [
              "\n",
              "<style>\n",
              "    /* Turns off some styling */\n",
              "    progress {\n",
              "        /* gets rid of default border in Firefox and Opera. */\n",
              "        border: none;\n",
              "        /* Needs to be in here for Safari polyfill so background images work as expected. */\n",
              "        background-size: auto;\n",
              "    }\n",
              "    progress:not([value]), progress:not([value])::-webkit-progress-bar {\n",
              "        background: repeating-linear-gradient(45deg, #7e7e7e, #7e7e7e 10px, #5c5c5c 10px, #5c5c5c 20px);\n",
              "    }\n",
              "    .progress-bar-interrupted, .progress-bar-interrupted::-webkit-progress-bar {\n",
              "        background: #F44336;\n",
              "    }\n",
              "</style>\n"
            ]
          },
          "metadata": {}
        },
        {
          "output_type": "display_data",
          "data": {
            "text/plain": [
              "<IPython.core.display.HTML object>"
            ],
            "text/html": []
          },
          "metadata": {}
        },
        {
          "output_type": "stream",
          "name": "stdout",
          "text": [
            "--- vit_large_patch16_224\n",
            "224\n",
            "Resize -- {'size': (480, 480), 'method': 'squish', 'pad_mode': 'reflection', 'resamples': (<Resampling.BILINEAR: 2>, <Resampling.NEAREST: 0>), 'p': 1.0}\n"
          ]
        },
        {
          "output_type": "display_data",
          "data": {
            "text/plain": [
              "<IPython.core.display.HTML object>"
            ],
            "text/html": [
              "\n",
              "<style>\n",
              "    /* Turns off some styling */\n",
              "    progress {\n",
              "        /* gets rid of default border in Firefox and Opera. */\n",
              "        border: none;\n",
              "        /* Needs to be in here for Safari polyfill so background images work as expected. */\n",
              "        background-size: auto;\n",
              "    }\n",
              "    progress:not([value]), progress:not([value])::-webkit-progress-bar {\n",
              "        background: repeating-linear-gradient(45deg, #7e7e7e, #7e7e7e 10px, #5c5c5c 10px, #5c5c5c 20px);\n",
              "    }\n",
              "    .progress-bar-interrupted, .progress-bar-interrupted::-webkit-progress-bar {\n",
              "        background: #F44336;\n",
              "    }\n",
              "</style>\n"
            ]
          },
          "metadata": {}
        },
        {
          "output_type": "display_data",
          "data": {
            "text/plain": [
              "<IPython.core.display.HTML object>"
            ],
            "text/html": [
              "<table border=\"1\" class=\"dataframe\">\n",
              "  <thead>\n",
              "    <tr style=\"text-align: left;\">\n",
              "      <th>epoch</th>\n",
              "      <th>train_loss</th>\n",
              "      <th>valid_loss</th>\n",
              "      <th>f1_score</th>\n",
              "      <th>time</th>\n",
              "    </tr>\n",
              "  </thead>\n",
              "  <tbody>\n",
              "    <tr>\n",
              "      <td>0</td>\n",
              "      <td>0.183849</td>\n",
              "      <td>0.155288</td>\n",
              "      <td>0.816926</td>\n",
              "      <td>01:21</td>\n",
              "    </tr>\n",
              "  </tbody>\n",
              "</table>"
            ]
          },
          "metadata": {}
        },
        {
          "output_type": "display_data",
          "data": {
            "text/plain": [
              "<IPython.core.display.HTML object>"
            ],
            "text/html": [
              "\n",
              "<style>\n",
              "    /* Turns off some styling */\n",
              "    progress {\n",
              "        /* gets rid of default border in Firefox and Opera. */\n",
              "        border: none;\n",
              "        /* Needs to be in here for Safari polyfill so background images work as expected. */\n",
              "        background-size: auto;\n",
              "    }\n",
              "    progress:not([value]), progress:not([value])::-webkit-progress-bar {\n",
              "        background: repeating-linear-gradient(45deg, #7e7e7e, #7e7e7e 10px, #5c5c5c 10px, #5c5c5c 20px);\n",
              "    }\n",
              "    .progress-bar-interrupted, .progress-bar-interrupted::-webkit-progress-bar {\n",
              "        background: #F44336;\n",
              "    }\n",
              "</style>\n"
            ]
          },
          "metadata": {}
        },
        {
          "output_type": "display_data",
          "data": {
            "text/plain": [
              "<IPython.core.display.HTML object>"
            ],
            "text/html": [
              "<table border=\"1\" class=\"dataframe\">\n",
              "  <thead>\n",
              "    <tr style=\"text-align: left;\">\n",
              "      <th>epoch</th>\n",
              "      <th>train_loss</th>\n",
              "      <th>valid_loss</th>\n",
              "      <th>f1_score</th>\n",
              "      <th>time</th>\n",
              "    </tr>\n",
              "  </thead>\n",
              "  <tbody>\n",
              "    <tr>\n",
              "      <td>0</td>\n",
              "      <td>0.118098</td>\n",
              "      <td>0.105427</td>\n",
              "      <td>0.880950</td>\n",
              "      <td>01:44</td>\n",
              "    </tr>\n",
              "    <tr>\n",
              "      <td>1</td>\n",
              "      <td>0.121714</td>\n",
              "      <td>0.282374</td>\n",
              "      <td>0.773854</td>\n",
              "      <td>01:44</td>\n",
              "    </tr>\n",
              "    <tr>\n",
              "      <td>2</td>\n",
              "      <td>0.124734</td>\n",
              "      <td>0.128540</td>\n",
              "      <td>0.849334</td>\n",
              "      <td>01:44</td>\n",
              "    </tr>\n",
              "    <tr>\n",
              "      <td>3</td>\n",
              "      <td>0.122419</td>\n",
              "      <td>0.134191</td>\n",
              "      <td>0.855522</td>\n",
              "      <td>01:43</td>\n",
              "    </tr>\n",
              "    <tr>\n",
              "      <td>4</td>\n",
              "      <td>0.114564</td>\n",
              "      <td>0.153631</td>\n",
              "      <td>0.820868</td>\n",
              "      <td>01:44</td>\n",
              "    </tr>\n",
              "    <tr>\n",
              "      <td>5</td>\n",
              "      <td>0.096319</td>\n",
              "      <td>0.108075</td>\n",
              "      <td>0.887658</td>\n",
              "      <td>01:44</td>\n",
              "    </tr>\n",
              "    <tr>\n",
              "      <td>6</td>\n",
              "      <td>0.084537</td>\n",
              "      <td>0.105287</td>\n",
              "      <td>0.874188</td>\n",
              "      <td>01:44</td>\n",
              "    </tr>\n",
              "    <tr>\n",
              "      <td>7</td>\n",
              "      <td>0.071338</td>\n",
              "      <td>0.100667</td>\n",
              "      <td>0.886096</td>\n",
              "      <td>01:44</td>\n",
              "    </tr>\n",
              "    <tr>\n",
              "      <td>8</td>\n",
              "      <td>0.047902</td>\n",
              "      <td>0.103579</td>\n",
              "      <td>0.902521</td>\n",
              "      <td>01:44</td>\n",
              "    </tr>\n",
              "    <tr>\n",
              "      <td>9</td>\n",
              "      <td>0.032791</td>\n",
              "      <td>0.101542</td>\n",
              "      <td>0.907480</td>\n",
              "      <td>01:44</td>\n",
              "    </tr>\n",
              "    <tr>\n",
              "      <td>10</td>\n",
              "      <td>0.020561</td>\n",
              "      <td>0.101329</td>\n",
              "      <td>0.914528</td>\n",
              "      <td>01:43</td>\n",
              "    </tr>\n",
              "    <tr>\n",
              "      <td>11</td>\n",
              "      <td>0.017180</td>\n",
              "      <td>0.104382</td>\n",
              "      <td>0.914711</td>\n",
              "      <td>01:44</td>\n",
              "    </tr>\n",
              "  </tbody>\n",
              "</table>"
            ]
          },
          "metadata": {}
        },
        {
          "output_type": "display_data",
          "data": {
            "text/plain": [
              "<IPython.core.display.HTML object>"
            ],
            "text/html": [
              "\n",
              "<style>\n",
              "    /* Turns off some styling */\n",
              "    progress {\n",
              "        /* gets rid of default border in Firefox and Opera. */\n",
              "        border: none;\n",
              "        /* Needs to be in here for Safari polyfill so background images work as expected. */\n",
              "        background-size: auto;\n",
              "    }\n",
              "    progress:not([value]), progress:not([value])::-webkit-progress-bar {\n",
              "        background: repeating-linear-gradient(45deg, #7e7e7e, #7e7e7e 10px, #5c5c5c 10px, #5c5c5c 20px);\n",
              "    }\n",
              "    .progress-bar-interrupted, .progress-bar-interrupted::-webkit-progress-bar {\n",
              "        background: #F44336;\n",
              "    }\n",
              "</style>\n"
            ]
          },
          "metadata": {}
        },
        {
          "output_type": "display_data",
          "data": {
            "text/plain": [
              "<IPython.core.display.HTML object>"
            ],
            "text/html": [
              "\n",
              "    <div>\n",
              "      <progress value='0' class='' max='12' style='width:300px; height:20px; vertical-align: middle;'></progress>\n",
              "      \n",
              "    </div>\n",
              "    \n"
            ]
          },
          "metadata": {}
        },
        {
          "output_type": "display_data",
          "data": {
            "text/plain": [
              "<IPython.core.display.HTML object>"
            ],
            "text/html": [
              "\n",
              "<style>\n",
              "    /* Turns off some styling */\n",
              "    progress {\n",
              "        /* gets rid of default border in Firefox and Opera. */\n",
              "        border: none;\n",
              "        /* Needs to be in here for Safari polyfill so background images work as expected. */\n",
              "        background-size: auto;\n",
              "    }\n",
              "    progress:not([value]), progress:not([value])::-webkit-progress-bar {\n",
              "        background: repeating-linear-gradient(45deg, #7e7e7e, #7e7e7e 10px, #5c5c5c 10px, #5c5c5c 20px);\n",
              "    }\n",
              "    .progress-bar-interrupted, .progress-bar-interrupted::-webkit-progress-bar {\n",
              "        background: #F44336;\n",
              "    }\n",
              "</style>\n"
            ]
          },
          "metadata": {}
        },
        {
          "output_type": "display_data",
          "data": {
            "text/plain": [
              "<IPython.core.display.HTML object>"
            ],
            "text/html": []
          },
          "metadata": {}
        }
      ]
    },
    {
      "cell_type": "code",
      "source": [],
      "metadata": {
        "id": "OdtIizDGpsxE"
      },
      "id": "OdtIizDGpsxE",
      "execution_count": null,
      "outputs": []
    },
    {
      "cell_type": "code",
      "source": [],
      "metadata": {
        "id": "SODSi_9Kps2O"
      },
      "id": "SODSi_9Kps2O",
      "execution_count": null,
      "outputs": []
    },
    {
      "cell_type": "code",
      "source": [],
      "metadata": {
        "id": "4SVh4SIWpWCA"
      },
      "id": "4SVh4SIWpWCA",
      "execution_count": null,
      "outputs": []
    },
    {
      "cell_type": "markdown",
      "id": "9c89a1e9-bdac-4c18-83ba-b3fa4297fcf1",
      "metadata": {
        "id": "9c89a1e9-bdac-4c18-83ba-b3fa4297fcf1"
      },
      "source": [
        "# <font color ='pickle'> Kaggle Submission"
      ]
    },
    {
      "cell_type": "code",
      "source": [
        "save_pickle('tta_res.pkl', tta_res)"
      ],
      "metadata": {
        "id": "CiSNURFTCR2I"
      },
      "id": "CiSNURFTCR2I",
      "execution_count": 48,
      "outputs": []
    },
    {
      "cell_type": "code",
      "source": [
        "doc(first)"
      ],
      "metadata": {
        "colab": {
          "base_uri": "https://localhost:8080/",
          "height": 154
        },
        "id": "wkV07CTOCR75",
        "outputId": "55968e32-b6df-4515-96c0-295d5ea0da41"
      },
      "id": "wkV07CTOCR75",
      "execution_count": 49,
      "outputs": [
        {
          "output_type": "display_data",
          "data": {
            "text/plain": [
              "<IPython.core.display.HTML object>"
            ],
            "text/html": [
              "<hr/>\n",
              "<h3>first</h3>\n",
              "<blockquote><pre><code>first(x, f=None, negate=False, **kwargs)</code></pre></blockquote><p>First element of `x`, optionally filtered by `f`, or None if missing</p>\n",
              "<p><a href=\"https://fastcore.fast.ai/basics.html#first\" target=\"_blank\" rel=\"noreferrer noopener\">Show in docs</a></p>"
            ]
          },
          "metadata": {}
        }
      ]
    },
    {
      "cell_type": "code",
      "source": [
        "tta_prs = first(zip(*tta_res))"
      ],
      "metadata": {
        "id": "3NHgzBGdCSBP"
      },
      "id": "3NHgzBGdCSBP",
      "execution_count": 50,
      "outputs": []
    },
    {
      "cell_type": "code",
      "source": [
        "tta_prs += tta_prs[1:3]"
      ],
      "metadata": {
        "id": "gZ5nkZoeCSG1"
      },
      "id": "gZ5nkZoeCSG1",
      "execution_count": 51,
      "outputs": []
    },
    {
      "cell_type": "code",
      "source": [
        "avg_pr = torch.stack(tta_prs).mean(0)\n",
        "avg_pr.shape"
      ],
      "metadata": {
        "colab": {
          "base_uri": "https://localhost:8080/"
        },
        "id": "f823Qye6GYtL",
        "outputId": "a052e0f2-9e77-4d23-b262-0a2e8fc20926"
      },
      "id": "f823Qye6GYtL",
      "execution_count": 52,
      "outputs": [
        {
          "output_type": "execute_result",
          "data": {
            "text/plain": [
              "torch.Size([5590, 6])"
            ]
          },
          "metadata": {},
          "execution_count": 52
        }
      ]
    },
    {
      "cell_type": "code",
      "source": [
        "idxs = avg_pr.argmax(dim=1)"
      ],
      "metadata": {
        "id": "4COZvdM0GY1u"
      },
      "id": "4COZvdM0GY1u",
      "execution_count": 53,
      "outputs": []
    },
    {
      "cell_type": "code",
      "source": [
        "dblock = DataBlock(blocks= (ImageBlock, MultiCategoryBlock),\n",
        "                   get_x= get_x,\n",
        "                   get_y = get_y,\n",
        "                   splitter = RandomSplitter(seed = 42, valid_pct = 0.2),\n",
        "                   item_tfms= item,\n",
        "                   batch_tfms= aug_transforms(size=size, min_scale = 0.75))\n",
        "\n",
        "dls = dblock.dataloaders(df, bs = 64)"
      ],
      "metadata": {
        "id": "1mrXrVORGY9A"
      },
      "id": "1mrXrVORGY9A",
      "execution_count": 62,
      "outputs": []
    },
    {
      "cell_type": "code",
      "source": [
        "vocab = np.array(dls.vocab)"
      ],
      "metadata": {
        "id": "C2eHv_5gCSN0"
      },
      "id": "C2eHv_5gCSN0",
      "execution_count": 63,
      "outputs": []
    },
    {
      "cell_type": "code",
      "source": [
        "vocab"
      ],
      "metadata": {
        "colab": {
          "base_uri": "https://localhost:8080/"
        },
        "id": "lcSfwJscGk1b",
        "outputId": "77c95f72-7618-46dc-938d-e9bb277247f3"
      },
      "id": "lcSfwJscGk1b",
      "execution_count": 64,
      "outputs": [
        {
          "output_type": "execute_result",
          "data": {
            "text/plain": [
              "array(['complex', 'frog_eye_leaf_spot', 'healthy', 'powdery_mildew',\n",
              "       'rust', 'scab'], dtype='<U18')"
            ]
          },
          "metadata": {},
          "execution_count": 64
        }
      ]
    },
    {
      "cell_type": "code",
      "source": [
        "ss = pd.read_csv(data_folder/'sample_submission.csv')\n",
        "ss = ss.sort_values(by = 'image')\n",
        "ss['labels'] = vocab[idxs]\n",
        "ss.to_csv(model_folder/'final_sub.csv', index = False)\n",
        "! head {model_folder/'final_sub.csv'}"
      ],
      "metadata": {
        "colab": {
          "base_uri": "https://localhost:8080/"
        },
        "id": "4PCGX0phGk9j",
        "outputId": "19c9fd2b-1741-408c-ef80-d4fd29eaabcf"
      },
      "id": "4PCGX0phGk9j",
      "execution_count": 85,
      "outputs": [
        {
          "output_type": "stream",
          "name": "stdout",
          "text": [
            "image,labels\n",
            "test_image_1.jpg,healthy\n",
            "test_image_10.jpg,complex\n",
            "test_image_100.jpg,frog_eye_leaf_spot\n",
            "test_image_1000.jpg,frog_eye_leaf_spot\n",
            "test_image_1001.jpg,rust\n",
            "test_image_1002.jpg,frog_eye_leaf_spot\n",
            "test_image_1003.jpg,frog_eye_leaf_spot\n",
            "test_image_1004.jpg,complex\n",
            "test_image_1005.jpg,complex\n"
          ]
        }
      ]
    },
    {
      "cell_type": "code",
      "source": [
        "comp = 'inclassplantpathologysmallf23'"
      ],
      "metadata": {
        "id": "omLedRKSGlGE"
      },
      "id": "omLedRKSGlGE",
      "execution_count": 86,
      "outputs": []
    },
    {
      "cell_type": "code",
      "source": [
        "api.competition_submit(model_folder/'final_sub.csv', 'inclass nov14', comp)"
      ],
      "metadata": {
        "colab": {
          "base_uri": "https://localhost:8080/"
        },
        "id": "W-c8hvgoCSUb",
        "outputId": "0e08e724-213a-42eb-bc78-f96a2186031b"
      },
      "id": "W-c8hvgoCSUb",
      "execution_count": 87,
      "outputs": [
        {
          "output_type": "stream",
          "name": "stderr",
          "text": [
            "100%|██████████| 161k/161k [00:01<00:00, 144kB/s]\n"
          ]
        },
        {
          "output_type": "execute_result",
          "data": {
            "text/plain": [
              "Successfully submitted to Inclass_Plant_Pathology_Small_F23"
            ]
          },
          "metadata": {},
          "execution_count": 87
        }
      ]
    },
    {
      "cell_type": "code",
      "source": [],
      "metadata": {
        "id": "QY5jXNh5Jg13"
      },
      "id": "QY5jXNh5Jg13",
      "execution_count": null,
      "outputs": []
    }
  ],
  "metadata": {
    "accelerator": "GPU",
    "colab": {
      "machine_shape": "hm",
      "provenance": [],
      "gpuClass": "premium",
      "gpuType": "V100"
    },
    "kernelspec": {
      "display_name": "Python 3",
      "name": "python3"
    },
    "language_info": {
      "codemirror_mode": {
        "name": "ipython",
        "version": 3
      },
      "file_extension": ".py",
      "mimetype": "text/x-python",
      "name": "python",
      "nbconvert_exporter": "python",
      "pygments_lexer": "ipython3",
      "version": "3.9.13"
    },
    "widgets": {
      "application/vnd.jupyter.widget-state+json": {
        "56564d4e71bc417aaa7d38e748745406": {
          "model_module": "@jupyter-widgets/controls",
          "model_name": "HBoxModel",
          "model_module_version": "1.5.0",
          "state": {
            "_dom_classes": [],
            "_model_module": "@jupyter-widgets/controls",
            "_model_module_version": "1.5.0",
            "_model_name": "HBoxModel",
            "_view_count": null,
            "_view_module": "@jupyter-widgets/controls",
            "_view_module_version": "1.5.0",
            "_view_name": "HBoxView",
            "box_style": "",
            "children": [
              "IPY_MODEL_f81931e136754c2ab476c1b352b559f2",
              "IPY_MODEL_efb3dabc22ec4693b551da7326e5e032",
              "IPY_MODEL_bc4b47b8e3ef46fa8c4396afe790aeee"
            ],
            "layout": "IPY_MODEL_a28b7a8a0cb24017ac45b8b10bfb316f"
          }
        },
        "f81931e136754c2ab476c1b352b559f2": {
          "model_module": "@jupyter-widgets/controls",
          "model_name": "HTMLModel",
          "model_module_version": "1.5.0",
          "state": {
            "_dom_classes": [],
            "_model_module": "@jupyter-widgets/controls",
            "_model_module_version": "1.5.0",
            "_model_name": "HTMLModel",
            "_view_count": null,
            "_view_module": "@jupyter-widgets/controls",
            "_view_module_version": "1.5.0",
            "_view_name": "HTMLView",
            "description": "",
            "description_tooltip": null,
            "layout": "IPY_MODEL_e884c0366ae047129ef550adb841cdaf",
            "placeholder": "​",
            "style": "IPY_MODEL_e12597beff8a49f5a3d10f9b84fbfe40",
            "value": "model.safetensors: 100%"
          }
        },
        "efb3dabc22ec4693b551da7326e5e032": {
          "model_module": "@jupyter-widgets/controls",
          "model_name": "FloatProgressModel",
          "model_module_version": "1.5.0",
          "state": {
            "_dom_classes": [],
            "_model_module": "@jupyter-widgets/controls",
            "_model_module_version": "1.5.0",
            "_model_name": "FloatProgressModel",
            "_view_count": null,
            "_view_module": "@jupyter-widgets/controls",
            "_view_module_version": "1.5.0",
            "_view_name": "ProgressView",
            "bar_style": "success",
            "description": "",
            "description_tooltip": null,
            "layout": "IPY_MODEL_bf133cbfe5194af9bb9b0c8214ea7c9c",
            "max": 919234676,
            "min": 0,
            "orientation": "horizontal",
            "style": "IPY_MODEL_2959eb2559e84c37a39d96766c8ae763",
            "value": 919234676
          }
        },
        "bc4b47b8e3ef46fa8c4396afe790aeee": {
          "model_module": "@jupyter-widgets/controls",
          "model_name": "HTMLModel",
          "model_module_version": "1.5.0",
          "state": {
            "_dom_classes": [],
            "_model_module": "@jupyter-widgets/controls",
            "_model_module_version": "1.5.0",
            "_model_name": "HTMLModel",
            "_view_count": null,
            "_view_module": "@jupyter-widgets/controls",
            "_view_module_version": "1.5.0",
            "_view_name": "HTMLView",
            "description": "",
            "description_tooltip": null,
            "layout": "IPY_MODEL_a132c117fe7b43da87864d18fae88177",
            "placeholder": "​",
            "style": "IPY_MODEL_6d22a203873b4fa189406ec37dbbbc16",
            "value": " 919M/919M [00:02&lt;00:00, 333MB/s]"
          }
        },
        "a28b7a8a0cb24017ac45b8b10bfb316f": {
          "model_module": "@jupyter-widgets/base",
          "model_name": "LayoutModel",
          "model_module_version": "1.2.0",
          "state": {
            "_model_module": "@jupyter-widgets/base",
            "_model_module_version": "1.2.0",
            "_model_name": "LayoutModel",
            "_view_count": null,
            "_view_module": "@jupyter-widgets/base",
            "_view_module_version": "1.2.0",
            "_view_name": "LayoutView",
            "align_content": null,
            "align_items": null,
            "align_self": null,
            "border": null,
            "bottom": null,
            "display": null,
            "flex": null,
            "flex_flow": null,
            "grid_area": null,
            "grid_auto_columns": null,
            "grid_auto_flow": null,
            "grid_auto_rows": null,
            "grid_column": null,
            "grid_gap": null,
            "grid_row": null,
            "grid_template_areas": null,
            "grid_template_columns": null,
            "grid_template_rows": null,
            "height": null,
            "justify_content": null,
            "justify_items": null,
            "left": null,
            "margin": null,
            "max_height": null,
            "max_width": null,
            "min_height": null,
            "min_width": null,
            "object_fit": null,
            "object_position": null,
            "order": null,
            "overflow": null,
            "overflow_x": null,
            "overflow_y": null,
            "padding": null,
            "right": null,
            "top": null,
            "visibility": null,
            "width": null
          }
        },
        "e884c0366ae047129ef550adb841cdaf": {
          "model_module": "@jupyter-widgets/base",
          "model_name": "LayoutModel",
          "model_module_version": "1.2.0",
          "state": {
            "_model_module": "@jupyter-widgets/base",
            "_model_module_version": "1.2.0",
            "_model_name": "LayoutModel",
            "_view_count": null,
            "_view_module": "@jupyter-widgets/base",
            "_view_module_version": "1.2.0",
            "_view_name": "LayoutView",
            "align_content": null,
            "align_items": null,
            "align_self": null,
            "border": null,
            "bottom": null,
            "display": null,
            "flex": null,
            "flex_flow": null,
            "grid_area": null,
            "grid_auto_columns": null,
            "grid_auto_flow": null,
            "grid_auto_rows": null,
            "grid_column": null,
            "grid_gap": null,
            "grid_row": null,
            "grid_template_areas": null,
            "grid_template_columns": null,
            "grid_template_rows": null,
            "height": null,
            "justify_content": null,
            "justify_items": null,
            "left": null,
            "margin": null,
            "max_height": null,
            "max_width": null,
            "min_height": null,
            "min_width": null,
            "object_fit": null,
            "object_position": null,
            "order": null,
            "overflow": null,
            "overflow_x": null,
            "overflow_y": null,
            "padding": null,
            "right": null,
            "top": null,
            "visibility": null,
            "width": null
          }
        },
        "e12597beff8a49f5a3d10f9b84fbfe40": {
          "model_module": "@jupyter-widgets/controls",
          "model_name": "DescriptionStyleModel",
          "model_module_version": "1.5.0",
          "state": {
            "_model_module": "@jupyter-widgets/controls",
            "_model_module_version": "1.5.0",
            "_model_name": "DescriptionStyleModel",
            "_view_count": null,
            "_view_module": "@jupyter-widgets/base",
            "_view_module_version": "1.2.0",
            "_view_name": "StyleView",
            "description_width": ""
          }
        },
        "bf133cbfe5194af9bb9b0c8214ea7c9c": {
          "model_module": "@jupyter-widgets/base",
          "model_name": "LayoutModel",
          "model_module_version": "1.2.0",
          "state": {
            "_model_module": "@jupyter-widgets/base",
            "_model_module_version": "1.2.0",
            "_model_name": "LayoutModel",
            "_view_count": null,
            "_view_module": "@jupyter-widgets/base",
            "_view_module_version": "1.2.0",
            "_view_name": "LayoutView",
            "align_content": null,
            "align_items": null,
            "align_self": null,
            "border": null,
            "bottom": null,
            "display": null,
            "flex": null,
            "flex_flow": null,
            "grid_area": null,
            "grid_auto_columns": null,
            "grid_auto_flow": null,
            "grid_auto_rows": null,
            "grid_column": null,
            "grid_gap": null,
            "grid_row": null,
            "grid_template_areas": null,
            "grid_template_columns": null,
            "grid_template_rows": null,
            "height": null,
            "justify_content": null,
            "justify_items": null,
            "left": null,
            "margin": null,
            "max_height": null,
            "max_width": null,
            "min_height": null,
            "min_width": null,
            "object_fit": null,
            "object_position": null,
            "order": null,
            "overflow": null,
            "overflow_x": null,
            "overflow_y": null,
            "padding": null,
            "right": null,
            "top": null,
            "visibility": null,
            "width": null
          }
        },
        "2959eb2559e84c37a39d96766c8ae763": {
          "model_module": "@jupyter-widgets/controls",
          "model_name": "ProgressStyleModel",
          "model_module_version": "1.5.0",
          "state": {
            "_model_module": "@jupyter-widgets/controls",
            "_model_module_version": "1.5.0",
            "_model_name": "ProgressStyleModel",
            "_view_count": null,
            "_view_module": "@jupyter-widgets/base",
            "_view_module_version": "1.2.0",
            "_view_name": "StyleView",
            "bar_color": null,
            "description_width": ""
          }
        },
        "a132c117fe7b43da87864d18fae88177": {
          "model_module": "@jupyter-widgets/base",
          "model_name": "LayoutModel",
          "model_module_version": "1.2.0",
          "state": {
            "_model_module": "@jupyter-widgets/base",
            "_model_module_version": "1.2.0",
            "_model_name": "LayoutModel",
            "_view_count": null,
            "_view_module": "@jupyter-widgets/base",
            "_view_module_version": "1.2.0",
            "_view_name": "LayoutView",
            "align_content": null,
            "align_items": null,
            "align_self": null,
            "border": null,
            "bottom": null,
            "display": null,
            "flex": null,
            "flex_flow": null,
            "grid_area": null,
            "grid_auto_columns": null,
            "grid_auto_flow": null,
            "grid_auto_rows": null,
            "grid_column": null,
            "grid_gap": null,
            "grid_row": null,
            "grid_template_areas": null,
            "grid_template_columns": null,
            "grid_template_rows": null,
            "height": null,
            "justify_content": null,
            "justify_items": null,
            "left": null,
            "margin": null,
            "max_height": null,
            "max_width": null,
            "min_height": null,
            "min_width": null,
            "object_fit": null,
            "object_position": null,
            "order": null,
            "overflow": null,
            "overflow_x": null,
            "overflow_y": null,
            "padding": null,
            "right": null,
            "top": null,
            "visibility": null,
            "width": null
          }
        },
        "6d22a203873b4fa189406ec37dbbbc16": {
          "model_module": "@jupyter-widgets/controls",
          "model_name": "DescriptionStyleModel",
          "model_module_version": "1.5.0",
          "state": {
            "_model_module": "@jupyter-widgets/controls",
            "_model_module_version": "1.5.0",
            "_model_name": "DescriptionStyleModel",
            "_view_count": null,
            "_view_module": "@jupyter-widgets/base",
            "_view_module_version": "1.2.0",
            "_view_name": "StyleView",
            "description_width": ""
          }
        },
        "725d549e6ae24dc686a47aeb61630694": {
          "model_module": "@jupyter-widgets/controls",
          "model_name": "HBoxModel",
          "model_module_version": "1.5.0",
          "state": {
            "_dom_classes": [],
            "_model_module": "@jupyter-widgets/controls",
            "_model_module_version": "1.5.0",
            "_model_name": "HBoxModel",
            "_view_count": null,
            "_view_module": "@jupyter-widgets/controls",
            "_view_module_version": "1.5.0",
            "_view_name": "HBoxView",
            "box_style": "",
            "children": [
              "IPY_MODEL_881938ff76134790b135c9c7687377c0",
              "IPY_MODEL_c98a601b2f64470dbe3eadf756b25bbd",
              "IPY_MODEL_c9258050cc8e4765b8cd64918f4ca27e"
            ],
            "layout": "IPY_MODEL_f62a879306864386921bce8e05e62553"
          }
        },
        "881938ff76134790b135c9c7687377c0": {
          "model_module": "@jupyter-widgets/controls",
          "model_name": "HTMLModel",
          "model_module_version": "1.5.0",
          "state": {
            "_dom_classes": [],
            "_model_module": "@jupyter-widgets/controls",
            "_model_module_version": "1.5.0",
            "_model_name": "HTMLModel",
            "_view_count": null,
            "_view_module": "@jupyter-widgets/controls",
            "_view_module_version": "1.5.0",
            "_view_name": "HTMLView",
            "description": "",
            "description_tooltip": null,
            "layout": "IPY_MODEL_c2064561f4d54768acc7396322ce74e4",
            "placeholder": "​",
            "style": "IPY_MODEL_c6e17835ad2346ddae78b401143ee4fd",
            "value": "model.safetensors: 100%"
          }
        },
        "c98a601b2f64470dbe3eadf756b25bbd": {
          "model_module": "@jupyter-widgets/controls",
          "model_name": "FloatProgressModel",
          "model_module_version": "1.5.0",
          "state": {
            "_dom_classes": [],
            "_model_module": "@jupyter-widgets/controls",
            "_model_module_version": "1.5.0",
            "_model_name": "FloatProgressModel",
            "_view_count": null,
            "_view_module": "@jupyter-widgets/controls",
            "_view_module_version": "1.5.0",
            "_view_name": "ProgressView",
            "bar_style": "success",
            "description": "",
            "description_tooltip": null,
            "layout": "IPY_MODEL_5f1f6312d3ef44738fda94ced97f6cd1",
            "max": 1217334682,
            "min": 0,
            "orientation": "horizontal",
            "style": "IPY_MODEL_c895249387124c389bd7ed2066ae54ff",
            "value": 1217334682
          }
        },
        "c9258050cc8e4765b8cd64918f4ca27e": {
          "model_module": "@jupyter-widgets/controls",
          "model_name": "HTMLModel",
          "model_module_version": "1.5.0",
          "state": {
            "_dom_classes": [],
            "_model_module": "@jupyter-widgets/controls",
            "_model_module_version": "1.5.0",
            "_model_name": "HTMLModel",
            "_view_count": null,
            "_view_module": "@jupyter-widgets/controls",
            "_view_module_version": "1.5.0",
            "_view_name": "HTMLView",
            "description": "",
            "description_tooltip": null,
            "layout": "IPY_MODEL_2dd67e5573c94b12862557723364ab03",
            "placeholder": "​",
            "style": "IPY_MODEL_893624eb5a7e4dea847be7fb97897a65",
            "value": " 1.22G/1.22G [00:05&lt;00:00, 148MB/s]"
          }
        },
        "f62a879306864386921bce8e05e62553": {
          "model_module": "@jupyter-widgets/base",
          "model_name": "LayoutModel",
          "model_module_version": "1.2.0",
          "state": {
            "_model_module": "@jupyter-widgets/base",
            "_model_module_version": "1.2.0",
            "_model_name": "LayoutModel",
            "_view_count": null,
            "_view_module": "@jupyter-widgets/base",
            "_view_module_version": "1.2.0",
            "_view_name": "LayoutView",
            "align_content": null,
            "align_items": null,
            "align_self": null,
            "border": null,
            "bottom": null,
            "display": null,
            "flex": null,
            "flex_flow": null,
            "grid_area": null,
            "grid_auto_columns": null,
            "grid_auto_flow": null,
            "grid_auto_rows": null,
            "grid_column": null,
            "grid_gap": null,
            "grid_row": null,
            "grid_template_areas": null,
            "grid_template_columns": null,
            "grid_template_rows": null,
            "height": null,
            "justify_content": null,
            "justify_items": null,
            "left": null,
            "margin": null,
            "max_height": null,
            "max_width": null,
            "min_height": null,
            "min_width": null,
            "object_fit": null,
            "object_position": null,
            "order": null,
            "overflow": null,
            "overflow_x": null,
            "overflow_y": null,
            "padding": null,
            "right": null,
            "top": null,
            "visibility": null,
            "width": null
          }
        },
        "c2064561f4d54768acc7396322ce74e4": {
          "model_module": "@jupyter-widgets/base",
          "model_name": "LayoutModel",
          "model_module_version": "1.2.0",
          "state": {
            "_model_module": "@jupyter-widgets/base",
            "_model_module_version": "1.2.0",
            "_model_name": "LayoutModel",
            "_view_count": null,
            "_view_module": "@jupyter-widgets/base",
            "_view_module_version": "1.2.0",
            "_view_name": "LayoutView",
            "align_content": null,
            "align_items": null,
            "align_self": null,
            "border": null,
            "bottom": null,
            "display": null,
            "flex": null,
            "flex_flow": null,
            "grid_area": null,
            "grid_auto_columns": null,
            "grid_auto_flow": null,
            "grid_auto_rows": null,
            "grid_column": null,
            "grid_gap": null,
            "grid_row": null,
            "grid_template_areas": null,
            "grid_template_columns": null,
            "grid_template_rows": null,
            "height": null,
            "justify_content": null,
            "justify_items": null,
            "left": null,
            "margin": null,
            "max_height": null,
            "max_width": null,
            "min_height": null,
            "min_width": null,
            "object_fit": null,
            "object_position": null,
            "order": null,
            "overflow": null,
            "overflow_x": null,
            "overflow_y": null,
            "padding": null,
            "right": null,
            "top": null,
            "visibility": null,
            "width": null
          }
        },
        "c6e17835ad2346ddae78b401143ee4fd": {
          "model_module": "@jupyter-widgets/controls",
          "model_name": "DescriptionStyleModel",
          "model_module_version": "1.5.0",
          "state": {
            "_model_module": "@jupyter-widgets/controls",
            "_model_module_version": "1.5.0",
            "_model_name": "DescriptionStyleModel",
            "_view_count": null,
            "_view_module": "@jupyter-widgets/base",
            "_view_module_version": "1.2.0",
            "_view_name": "StyleView",
            "description_width": ""
          }
        },
        "5f1f6312d3ef44738fda94ced97f6cd1": {
          "model_module": "@jupyter-widgets/base",
          "model_name": "LayoutModel",
          "model_module_version": "1.2.0",
          "state": {
            "_model_module": "@jupyter-widgets/base",
            "_model_module_version": "1.2.0",
            "_model_name": "LayoutModel",
            "_view_count": null,
            "_view_module": "@jupyter-widgets/base",
            "_view_module_version": "1.2.0",
            "_view_name": "LayoutView",
            "align_content": null,
            "align_items": null,
            "align_self": null,
            "border": null,
            "bottom": null,
            "display": null,
            "flex": null,
            "flex_flow": null,
            "grid_area": null,
            "grid_auto_columns": null,
            "grid_auto_flow": null,
            "grid_auto_rows": null,
            "grid_column": null,
            "grid_gap": null,
            "grid_row": null,
            "grid_template_areas": null,
            "grid_template_columns": null,
            "grid_template_rows": null,
            "height": null,
            "justify_content": null,
            "justify_items": null,
            "left": null,
            "margin": null,
            "max_height": null,
            "max_width": null,
            "min_height": null,
            "min_width": null,
            "object_fit": null,
            "object_position": null,
            "order": null,
            "overflow": null,
            "overflow_x": null,
            "overflow_y": null,
            "padding": null,
            "right": null,
            "top": null,
            "visibility": null,
            "width": null
          }
        },
        "c895249387124c389bd7ed2066ae54ff": {
          "model_module": "@jupyter-widgets/controls",
          "model_name": "ProgressStyleModel",
          "model_module_version": "1.5.0",
          "state": {
            "_model_module": "@jupyter-widgets/controls",
            "_model_module_version": "1.5.0",
            "_model_name": "ProgressStyleModel",
            "_view_count": null,
            "_view_module": "@jupyter-widgets/base",
            "_view_module_version": "1.2.0",
            "_view_name": "StyleView",
            "bar_color": null,
            "description_width": ""
          }
        },
        "2dd67e5573c94b12862557723364ab03": {
          "model_module": "@jupyter-widgets/base",
          "model_name": "LayoutModel",
          "model_module_version": "1.2.0",
          "state": {
            "_model_module": "@jupyter-widgets/base",
            "_model_module_version": "1.2.0",
            "_model_name": "LayoutModel",
            "_view_count": null,
            "_view_module": "@jupyter-widgets/base",
            "_view_module_version": "1.2.0",
            "_view_name": "LayoutView",
            "align_content": null,
            "align_items": null,
            "align_self": null,
            "border": null,
            "bottom": null,
            "display": null,
            "flex": null,
            "flex_flow": null,
            "grid_area": null,
            "grid_auto_columns": null,
            "grid_auto_flow": null,
            "grid_auto_rows": null,
            "grid_column": null,
            "grid_gap": null,
            "grid_row": null,
            "grid_template_areas": null,
            "grid_template_columns": null,
            "grid_template_rows": null,
            "height": null,
            "justify_content": null,
            "justify_items": null,
            "left": null,
            "margin": null,
            "max_height": null,
            "max_width": null,
            "min_height": null,
            "min_width": null,
            "object_fit": null,
            "object_position": null,
            "order": null,
            "overflow": null,
            "overflow_x": null,
            "overflow_y": null,
            "padding": null,
            "right": null,
            "top": null,
            "visibility": null,
            "width": null
          }
        },
        "893624eb5a7e4dea847be7fb97897a65": {
          "model_module": "@jupyter-widgets/controls",
          "model_name": "DescriptionStyleModel",
          "model_module_version": "1.5.0",
          "state": {
            "_model_module": "@jupyter-widgets/controls",
            "_model_module_version": "1.5.0",
            "_model_name": "DescriptionStyleModel",
            "_view_count": null,
            "_view_module": "@jupyter-widgets/base",
            "_view_module_version": "1.2.0",
            "_view_name": "StyleView",
            "description_width": ""
          }
        }
      }
    }
  },
  "nbformat": 4,
  "nbformat_minor": 5
}